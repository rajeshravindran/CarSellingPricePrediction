{
 "cells": [
  {
   "cell_type": "code",
   "execution_count": 1,
   "metadata": {},
   "outputs": [],
   "source": [
    "import warnings\n",
    "warnings.filterwarnings('ignore')"
   ]
  },
  {
   "cell_type": "code",
   "execution_count": 2,
   "metadata": {},
   "outputs": [],
   "source": [
    "#IMPORTING REQUIRED LIBRARIES\n",
    "\n",
    "import pandas as pd\n",
    "import numpy as np \n",
    "import os\n",
    "import datetime\n",
    "\n",
    "import matplotlib.pyplot as plt\n",
    "\n",
    "import seaborn as sns \n",
    "sns.set_style('whitegrid')\n",
    "\n",
    "import matplotlib\n",
    "\n",
    "%matplotlib inline"
   ]
  },
  {
   "cell_type": "markdown",
   "metadata": {},
   "source": [
    "### Loading data for Analysis"
   ]
  },
  {
   "cell_type": "code",
   "execution_count": 3,
   "metadata": {},
   "outputs": [],
   "source": [
    "root_dir  = os.path.abspath('.')\n",
    "data_dir  = os.path.join(root_dir, 'data')\n",
    "train     = os.path.join(data_dir,'Train.csv')\n",
    "test      = os.path.join(data_dir,'Test.csv' )\n",
    "submt_fil = os.path.join(data_dir,'Final_submission.csv' )"
   ]
  },
  {
   "cell_type": "code",
   "execution_count": 4,
   "metadata": {},
   "outputs": [
    {
     "data": {
      "text/html": [
       "<div>\n",
       "<style scoped>\n",
       "    .dataframe tbody tr th:only-of-type {\n",
       "        vertical-align: middle;\n",
       "    }\n",
       "\n",
       "    .dataframe tbody tr th {\n",
       "        vertical-align: top;\n",
       "    }\n",
       "\n",
       "    .dataframe thead th {\n",
       "        text-align: right;\n",
       "    }\n",
       "</style>\n",
       "<table border=\"1\" class=\"dataframe\">\n",
       "  <thead>\n",
       "    <tr style=\"text-align: right;\">\n",
       "      <th></th>\n",
       "      <th>InvoiceNo</th>\n",
       "      <th>StockCode</th>\n",
       "      <th>Description</th>\n",
       "      <th>Quantity</th>\n",
       "      <th>InvoiceDate</th>\n",
       "      <th>UnitPrice</th>\n",
       "      <th>CustomerID</th>\n",
       "      <th>Country</th>\n",
       "    </tr>\n",
       "  </thead>\n",
       "  <tbody>\n",
       "    <tr>\n",
       "      <th>0</th>\n",
       "      <td>6141</td>\n",
       "      <td>1583</td>\n",
       "      <td>144</td>\n",
       "      <td>3</td>\n",
       "      <td>2011-05-06 16:54:00</td>\n",
       "      <td>3.75</td>\n",
       "      <td>14056.0</td>\n",
       "      <td>35</td>\n",
       "    </tr>\n",
       "    <tr>\n",
       "      <th>1</th>\n",
       "      <td>6349</td>\n",
       "      <td>1300</td>\n",
       "      <td>3682</td>\n",
       "      <td>6</td>\n",
       "      <td>2011-05-11 07:35:00</td>\n",
       "      <td>1.95</td>\n",
       "      <td>13098.0</td>\n",
       "      <td>35</td>\n",
       "    </tr>\n",
       "    <tr>\n",
       "      <th>2</th>\n",
       "      <td>16783</td>\n",
       "      <td>2178</td>\n",
       "      <td>1939</td>\n",
       "      <td>4</td>\n",
       "      <td>2011-11-20 13:20:00</td>\n",
       "      <td>5.95</td>\n",
       "      <td>15044.0</td>\n",
       "      <td>35</td>\n",
       "    </tr>\n",
       "    <tr>\n",
       "      <th>3</th>\n",
       "      <td>16971</td>\n",
       "      <td>2115</td>\n",
       "      <td>2983</td>\n",
       "      <td>1</td>\n",
       "      <td>2011-11-22 12:07:00</td>\n",
       "      <td>0.83</td>\n",
       "      <td>15525.0</td>\n",
       "      <td>35</td>\n",
       "    </tr>\n",
       "    <tr>\n",
       "      <th>4</th>\n",
       "      <td>6080</td>\n",
       "      <td>1210</td>\n",
       "      <td>2886</td>\n",
       "      <td>12</td>\n",
       "      <td>2011-05-06 09:00:00</td>\n",
       "      <td>1.65</td>\n",
       "      <td>13952.0</td>\n",
       "      <td>35</td>\n",
       "    </tr>\n",
       "  </tbody>\n",
       "</table>\n",
       "</div>"
      ],
      "text/plain": [
       "   InvoiceNo  StockCode  Description  Quantity          InvoiceDate  \\\n",
       "0       6141       1583          144         3  2011-05-06 16:54:00   \n",
       "1       6349       1300         3682         6  2011-05-11 07:35:00   \n",
       "2      16783       2178         1939         4  2011-11-20 13:20:00   \n",
       "3      16971       2115         2983         1  2011-11-22 12:07:00   \n",
       "4       6080       1210         2886        12  2011-05-06 09:00:00   \n",
       "\n",
       "   UnitPrice  CustomerID  Country  \n",
       "0       3.75     14056.0       35  \n",
       "1       1.95     13098.0       35  \n",
       "2       5.95     15044.0       35  \n",
       "3       0.83     15525.0       35  \n",
       "4       1.65     13952.0       35  "
      ]
     },
     "execution_count": 4,
     "metadata": {},
     "output_type": "execute_result"
    }
   ],
   "source": [
    "train_df = pd.read_csv(train)\n",
    "train_df.head()"
   ]
  },
  {
   "cell_type": "code",
   "execution_count": 5,
   "metadata": {},
   "outputs": [
    {
     "name": "stdout",
     "output_type": "stream",
     "text": [
      "<class 'pandas.core.frame.DataFrame'>\n",
      "RangeIndex: 284780 entries, 0 to 284779\n",
      "Data columns (total 8 columns):\n",
      " #   Column       Non-Null Count   Dtype  \n",
      "---  ------       --------------   -----  \n",
      " 0   InvoiceNo    284780 non-null  int64  \n",
      " 1   StockCode    284780 non-null  int64  \n",
      " 2   Description  284780 non-null  int64  \n",
      " 3   Quantity     284780 non-null  int64  \n",
      " 4   InvoiceDate  284780 non-null  object \n",
      " 5   UnitPrice    284780 non-null  float64\n",
      " 6   CustomerID   284780 non-null  float64\n",
      " 7   Country      284780 non-null  int64  \n",
      "dtypes: float64(2), int64(5), object(1)\n",
      "memory usage: 17.4+ MB\n"
     ]
    }
   ],
   "source": [
    "train_df.info()"
   ]
  },
  {
   "cell_type": "code",
   "execution_count": 6,
   "metadata": {},
   "outputs": [
    {
     "data": {
      "text/plain": [
       "(284780, 8)"
      ]
     },
     "execution_count": 6,
     "metadata": {},
     "output_type": "execute_result"
    }
   ],
   "source": [
    "train_df.shape"
   ]
  },
  {
   "cell_type": "code",
   "execution_count": 7,
   "metadata": {},
   "outputs": [
    {
     "data": {
      "text/plain": [
       "InvoiceNo      0\n",
       "StockCode      0\n",
       "Description    0\n",
       "Quantity       0\n",
       "InvoiceDate    0\n",
       "UnitPrice      0\n",
       "CustomerID     0\n",
       "Country        0\n",
       "dtype: int64"
      ]
     },
     "execution_count": 7,
     "metadata": {},
     "output_type": "execute_result"
    }
   ],
   "source": [
    "train_df.isnull().sum()"
   ]
  },
  {
   "cell_type": "code",
   "execution_count": 8,
   "metadata": {},
   "outputs": [
    {
     "data": {
      "text/html": [
       "<div>\n",
       "<style scoped>\n",
       "    .dataframe tbody tr th:only-of-type {\n",
       "        vertical-align: middle;\n",
       "    }\n",
       "\n",
       "    .dataframe tbody tr th {\n",
       "        vertical-align: top;\n",
       "    }\n",
       "\n",
       "    .dataframe thead th {\n",
       "        text-align: right;\n",
       "    }\n",
       "</style>\n",
       "<table border=\"1\" class=\"dataframe\">\n",
       "  <thead>\n",
       "    <tr style=\"text-align: right;\">\n",
       "      <th></th>\n",
       "      <th>InvoiceNo</th>\n",
       "      <th>StockCode</th>\n",
       "      <th>Description</th>\n",
       "      <th>Quantity</th>\n",
       "      <th>InvoiceDate</th>\n",
       "      <th>CustomerID</th>\n",
       "      <th>Country</th>\n",
       "    </tr>\n",
       "  </thead>\n",
       "  <tbody>\n",
       "    <tr>\n",
       "      <th>0</th>\n",
       "      <td>3139</td>\n",
       "      <td>1709</td>\n",
       "      <td>1079</td>\n",
       "      <td>3</td>\n",
       "      <td>2011-02-22 15:22:00</td>\n",
       "      <td>16161.0</td>\n",
       "      <td>35</td>\n",
       "    </tr>\n",
       "    <tr>\n",
       "      <th>1</th>\n",
       "      <td>617</td>\n",
       "      <td>510</td>\n",
       "      <td>3457</td>\n",
       "      <td>1</td>\n",
       "      <td>2010-12-08 12:46:00</td>\n",
       "      <td>17341.0</td>\n",
       "      <td>35</td>\n",
       "    </tr>\n",
       "    <tr>\n",
       "      <th>2</th>\n",
       "      <td>14653</td>\n",
       "      <td>604</td>\n",
       "      <td>694</td>\n",
       "      <td>36</td>\n",
       "      <td>2011-10-25 13:53:00</td>\n",
       "      <td>15158.0</td>\n",
       "      <td>35</td>\n",
       "    </tr>\n",
       "    <tr>\n",
       "      <th>3</th>\n",
       "      <td>8634</td>\n",
       "      <td>1478</td>\n",
       "      <td>3473</td>\n",
       "      <td>2</td>\n",
       "      <td>2011-06-27 12:38:00</td>\n",
       "      <td>16033.0</td>\n",
       "      <td>35</td>\n",
       "    </tr>\n",
       "    <tr>\n",
       "      <th>4</th>\n",
       "      <td>15546</td>\n",
       "      <td>3216</td>\n",
       "      <td>871</td>\n",
       "      <td>1</td>\n",
       "      <td>2011-11-06 16:14:00</td>\n",
       "      <td>15351.0</td>\n",
       "      <td>35</td>\n",
       "    </tr>\n",
       "  </tbody>\n",
       "</table>\n",
       "</div>"
      ],
      "text/plain": [
       "   InvoiceNo  StockCode  Description  Quantity          InvoiceDate  \\\n",
       "0       3139       1709         1079         3  2011-02-22 15:22:00   \n",
       "1        617        510         3457         1  2010-12-08 12:46:00   \n",
       "2      14653        604          694        36  2011-10-25 13:53:00   \n",
       "3       8634       1478         3473         2  2011-06-27 12:38:00   \n",
       "4      15546       3216          871         1  2011-11-06 16:14:00   \n",
       "\n",
       "   CustomerID  Country  \n",
       "0     16161.0       35  \n",
       "1     17341.0       35  \n",
       "2     15158.0       35  \n",
       "3     16033.0       35  \n",
       "4     15351.0       35  "
      ]
     },
     "execution_count": 8,
     "metadata": {},
     "output_type": "execute_result"
    }
   ],
   "source": [
    "test_df = pd.read_csv(test)\n",
    "test_df.head()"
   ]
  },
  {
   "cell_type": "code",
   "execution_count": 9,
   "metadata": {},
   "outputs": [
    {
     "data": {
      "text/plain": [
       "(122049, 7)"
      ]
     },
     "execution_count": 9,
     "metadata": {},
     "output_type": "execute_result"
    }
   ],
   "source": [
    "test_df.shape"
   ]
  },
  {
   "cell_type": "code",
   "execution_count": 10,
   "metadata": {},
   "outputs": [
    {
     "name": "stdout",
     "output_type": "stream",
     "text": [
      "<class 'pandas.core.frame.DataFrame'>\n",
      "RangeIndex: 122049 entries, 0 to 122048\n",
      "Data columns (total 7 columns):\n",
      " #   Column       Non-Null Count   Dtype  \n",
      "---  ------       --------------   -----  \n",
      " 0   InvoiceNo    122049 non-null  int64  \n",
      " 1   StockCode    122049 non-null  int64  \n",
      " 2   Description  122049 non-null  int64  \n",
      " 3   Quantity     122049 non-null  int64  \n",
      " 4   InvoiceDate  122049 non-null  object \n",
      " 5   CustomerID   122049 non-null  float64\n",
      " 6   Country      122049 non-null  int64  \n",
      "dtypes: float64(1), int64(5), object(1)\n",
      "memory usage: 6.5+ MB\n"
     ]
    }
   ],
   "source": [
    "test_df.info()"
   ]
  },
  {
   "cell_type": "code",
   "execution_count": 11,
   "metadata": {},
   "outputs": [
    {
     "data": {
      "text/plain": [
       "InvoiceNo      0\n",
       "StockCode      0\n",
       "Description    0\n",
       "Quantity       0\n",
       "InvoiceDate    0\n",
       "CustomerID     0\n",
       "Country        0\n",
       "dtype: int64"
      ]
     },
     "execution_count": 11,
     "metadata": {},
     "output_type": "execute_result"
    }
   ],
   "source": [
    "test_df.isnull().sum()"
   ]
  },
  {
   "cell_type": "code",
   "execution_count": 12,
   "metadata": {},
   "outputs": [
    {
     "name": "stdout",
     "output_type": "stream",
     "text": [
      "<class 'pandas.core.frame.DataFrame'>\n",
      "RangeIndex: 284780 entries, 0 to 284779\n",
      "Data columns (total 8 columns):\n",
      " #   Column       Non-Null Count   Dtype         \n",
      "---  ------       --------------   -----         \n",
      " 0   InvoiceNo    284780 non-null  int64         \n",
      " 1   StockCode    284780 non-null  int64         \n",
      " 2   Description  284780 non-null  int64         \n",
      " 3   Quantity     284780 non-null  int64         \n",
      " 4   InvoiceDate  284780 non-null  datetime64[ns]\n",
      " 5   UnitPrice    284780 non-null  float64       \n",
      " 6   CustomerID   284780 non-null  float64       \n",
      " 7   Country      284780 non-null  int64         \n",
      "dtypes: datetime64[ns](1), float64(2), int64(5)\n",
      "memory usage: 17.4 MB\n",
      "None\n",
      "<class 'pandas.core.frame.DataFrame'>\n",
      "RangeIndex: 122049 entries, 0 to 122048\n",
      "Data columns (total 7 columns):\n",
      " #   Column       Non-Null Count   Dtype         \n",
      "---  ------       --------------   -----         \n",
      " 0   InvoiceNo    122049 non-null  int64         \n",
      " 1   StockCode    122049 non-null  int64         \n",
      " 2   Description  122049 non-null  int64         \n",
      " 3   Quantity     122049 non-null  int64         \n",
      " 4   InvoiceDate  122049 non-null  datetime64[ns]\n",
      " 5   CustomerID   122049 non-null  float64       \n",
      " 6   Country      122049 non-null  int64         \n",
      "dtypes: datetime64[ns](1), float64(1), int64(5)\n",
      "memory usage: 6.5 MB\n",
      "None\n"
     ]
    }
   ],
   "source": [
    "#Converting InvoiceDate column to datetime.\n",
    "\n",
    "train_df['InvoiceDate'] = pd.to_datetime(train_df['InvoiceDate'], errors='coerce')\n",
    "test_df['InvoiceDate'] = pd.to_datetime(test_df['InvoiceDate'], errors='coerce')\n",
    "\n",
    "print(train_df.info())\n",
    "print(test_df.info())"
   ]
  },
  {
   "cell_type": "code",
   "execution_count": 13,
   "metadata": {},
   "outputs": [],
   "source": [
    "monthMap = {1:'01',2:'02',3:'03',4:'04',5:'05',6:'06',7:'07',8:'08',9:'09',10:'10',11:'11',12:'12'}\n",
    "\n",
    "# Extracting Month and Year from Date columns\n",
    "train_df['Year'] = pd.DatetimeIndex(train_df['InvoiceDate']).year\n",
    "train_df['Month'] = pd.DatetimeIndex(train_df['InvoiceDate']).month\n",
    "#df.Month.apply(lambda x: datetime.strptime(str(x), '%m').strftime('%b'))\n",
    "#train_df['MonthName'] = train_df.Month.apply(lambda x: datetime.datetime.strptime(str(x), '%m').strftime('%b'))\n",
    "train_df['YearMonth'] = train_df[\"Year\"].astype(str) + train_df[\"Month\"].map(monthMap)\n",
    "train_df['YearMonth'] = train_df['YearMonth'].apply(lambda x: int(x))"
   ]
  },
  {
   "cell_type": "code",
   "execution_count": 14,
   "metadata": {},
   "outputs": [
    {
     "data": {
      "text/html": [
       "<div>\n",
       "<style scoped>\n",
       "    .dataframe tbody tr th:only-of-type {\n",
       "        vertical-align: middle;\n",
       "    }\n",
       "\n",
       "    .dataframe tbody tr th {\n",
       "        vertical-align: top;\n",
       "    }\n",
       "\n",
       "    .dataframe thead th {\n",
       "        text-align: right;\n",
       "    }\n",
       "</style>\n",
       "<table border=\"1\" class=\"dataframe\">\n",
       "  <thead>\n",
       "    <tr style=\"text-align: right;\">\n",
       "      <th></th>\n",
       "      <th>StockCode</th>\n",
       "      <th>Description</th>\n",
       "      <th>Country</th>\n",
       "      <th>YearMonth</th>\n",
       "      <th>UnitPrice</th>\n",
       "    </tr>\n",
       "  </thead>\n",
       "  <tbody>\n",
       "    <tr>\n",
       "      <th>0</th>\n",
       "      <td>3678</td>\n",
       "      <td>882</td>\n",
       "      <td>35</td>\n",
       "      <td>201111</td>\n",
       "      <td>1038.75</td>\n",
       "    </tr>\n",
       "    <tr>\n",
       "      <th>1</th>\n",
       "      <td>3678</td>\n",
       "      <td>882</td>\n",
       "      <td>35</td>\n",
       "      <td>201112</td>\n",
       "      <td>1100.44</td>\n",
       "    </tr>\n",
       "    <tr>\n",
       "      <th>2</th>\n",
       "      <td>3679</td>\n",
       "      <td>1066</td>\n",
       "      <td>35</td>\n",
       "      <td>201104</td>\n",
       "      <td>1867.86</td>\n",
       "    </tr>\n",
       "    <tr>\n",
       "      <th>3</th>\n",
       "      <td>3680</td>\n",
       "      <td>1043</td>\n",
       "      <td>35</td>\n",
       "      <td>201111</td>\n",
       "      <td>1500.36</td>\n",
       "    </tr>\n",
       "    <tr>\n",
       "      <th>4</th>\n",
       "      <td>3680</td>\n",
       "      <td>1043</td>\n",
       "      <td>35</td>\n",
       "      <td>201112</td>\n",
       "      <td>1599.26</td>\n",
       "    </tr>\n",
       "  </tbody>\n",
       "</table>\n",
       "</div>"
      ],
      "text/plain": [
       "   StockCode  Description  Country  YearMonth  UnitPrice\n",
       "0       3678          882       35     201111    1038.75\n",
       "1       3678          882       35     201112    1100.44\n",
       "2       3679         1066       35     201104    1867.86\n",
       "3       3680         1043       35     201111    1500.36\n",
       "4       3680         1043       35     201112    1599.26"
      ]
     },
     "execution_count": 14,
     "metadata": {},
     "output_type": "execute_result"
    }
   ],
   "source": [
    "x = train_df.loc[train_df.UnitPrice >= 1000]\n",
    "xGroupBy = x.groupby([\"StockCode\",\"Description\",\"Country\",\"YearMonth\"]).agg({'UnitPrice':np.median}).reset_index()\n",
    "xGroupBy.head()"
   ]
  },
  {
   "cell_type": "code",
   "execution_count": 15,
   "metadata": {},
   "outputs": [],
   "source": [
    "#updating Train_df outliers with median data \n",
    "#train_df = train_df.join(xGroupBy, on=[\"StockCode\",\"Country\"], how='left',rsuffix='_temp')\n",
    "train_df = pd.merge(train_df, xGroupBy, on=[\"StockCode\",\"Description\",\"Country\",\"YearMonth\"], how='left')"
   ]
  },
  {
   "cell_type": "code",
   "execution_count": 16,
   "metadata": {},
   "outputs": [
    {
     "data": {
      "text/html": [
       "<div>\n",
       "<style scoped>\n",
       "    .dataframe tbody tr th:only-of-type {\n",
       "        vertical-align: middle;\n",
       "    }\n",
       "\n",
       "    .dataframe tbody tr th {\n",
       "        vertical-align: top;\n",
       "    }\n",
       "\n",
       "    .dataframe thead th {\n",
       "        text-align: right;\n",
       "    }\n",
       "</style>\n",
       "<table border=\"1\" class=\"dataframe\">\n",
       "  <thead>\n",
       "    <tr style=\"text-align: right;\">\n",
       "      <th></th>\n",
       "      <th>InvoiceNo</th>\n",
       "      <th>StockCode</th>\n",
       "      <th>Description</th>\n",
       "      <th>Quantity</th>\n",
       "      <th>InvoiceDate</th>\n",
       "      <th>UnitPrice_x</th>\n",
       "      <th>CustomerID</th>\n",
       "      <th>Country</th>\n",
       "      <th>Year</th>\n",
       "      <th>Month</th>\n",
       "      <th>YearMonth</th>\n",
       "      <th>UnitPrice_y</th>\n",
       "    </tr>\n",
       "  </thead>\n",
       "  <tbody>\n",
       "    <tr>\n",
       "      <th>0</th>\n",
       "      <td>6141</td>\n",
       "      <td>1583</td>\n",
       "      <td>144</td>\n",
       "      <td>3</td>\n",
       "      <td>2011-05-06 16:54:00</td>\n",
       "      <td>3.75</td>\n",
       "      <td>14056.0</td>\n",
       "      <td>35</td>\n",
       "      <td>2011</td>\n",
       "      <td>5</td>\n",
       "      <td>201105</td>\n",
       "      <td>NaN</td>\n",
       "    </tr>\n",
       "    <tr>\n",
       "      <th>1</th>\n",
       "      <td>6349</td>\n",
       "      <td>1300</td>\n",
       "      <td>3682</td>\n",
       "      <td>6</td>\n",
       "      <td>2011-05-11 07:35:00</td>\n",
       "      <td>1.95</td>\n",
       "      <td>13098.0</td>\n",
       "      <td>35</td>\n",
       "      <td>2011</td>\n",
       "      <td>5</td>\n",
       "      <td>201105</td>\n",
       "      <td>NaN</td>\n",
       "    </tr>\n",
       "    <tr>\n",
       "      <th>2</th>\n",
       "      <td>16783</td>\n",
       "      <td>2178</td>\n",
       "      <td>1939</td>\n",
       "      <td>4</td>\n",
       "      <td>2011-11-20 13:20:00</td>\n",
       "      <td>5.95</td>\n",
       "      <td>15044.0</td>\n",
       "      <td>35</td>\n",
       "      <td>2011</td>\n",
       "      <td>11</td>\n",
       "      <td>201111</td>\n",
       "      <td>NaN</td>\n",
       "    </tr>\n",
       "    <tr>\n",
       "      <th>3</th>\n",
       "      <td>16971</td>\n",
       "      <td>2115</td>\n",
       "      <td>2983</td>\n",
       "      <td>1</td>\n",
       "      <td>2011-11-22 12:07:00</td>\n",
       "      <td>0.83</td>\n",
       "      <td>15525.0</td>\n",
       "      <td>35</td>\n",
       "      <td>2011</td>\n",
       "      <td>11</td>\n",
       "      <td>201111</td>\n",
       "      <td>NaN</td>\n",
       "    </tr>\n",
       "    <tr>\n",
       "      <th>4</th>\n",
       "      <td>6080</td>\n",
       "      <td>1210</td>\n",
       "      <td>2886</td>\n",
       "      <td>12</td>\n",
       "      <td>2011-05-06 09:00:00</td>\n",
       "      <td>1.65</td>\n",
       "      <td>13952.0</td>\n",
       "      <td>35</td>\n",
       "      <td>2011</td>\n",
       "      <td>5</td>\n",
       "      <td>201105</td>\n",
       "      <td>NaN</td>\n",
       "    </tr>\n",
       "  </tbody>\n",
       "</table>\n",
       "</div>"
      ],
      "text/plain": [
       "   InvoiceNo  StockCode  Description  Quantity         InvoiceDate  \\\n",
       "0       6141       1583          144         3 2011-05-06 16:54:00   \n",
       "1       6349       1300         3682         6 2011-05-11 07:35:00   \n",
       "2      16783       2178         1939         4 2011-11-20 13:20:00   \n",
       "3      16971       2115         2983         1 2011-11-22 12:07:00   \n",
       "4       6080       1210         2886        12 2011-05-06 09:00:00   \n",
       "\n",
       "   UnitPrice_x  CustomerID  Country  Year  Month  YearMonth  UnitPrice_y  \n",
       "0         3.75     14056.0       35  2011      5     201105          NaN  \n",
       "1         1.95     13098.0       35  2011      5     201105          NaN  \n",
       "2         5.95     15044.0       35  2011     11     201111          NaN  \n",
       "3         0.83     15525.0       35  2011     11     201111          NaN  \n",
       "4         1.65     13952.0       35  2011      5     201105          NaN  "
      ]
     },
     "execution_count": 16,
     "metadata": {},
     "output_type": "execute_result"
    }
   ],
   "source": [
    "train_df.head()"
   ]
  },
  {
   "cell_type": "code",
   "execution_count": 17,
   "metadata": {},
   "outputs": [],
   "source": [
    "def myfunc(x,y):\n",
    "    if x >= 1000:\n",
    "        return y\n",
    "    else:\n",
    "        return x"
   ]
  },
  {
   "cell_type": "code",
   "execution_count": 18,
   "metadata": {},
   "outputs": [],
   "source": [
    "train_df['UnitPrice'] = train_df.apply(lambda x: myfunc(x.UnitPrice_x, x.UnitPrice_y), axis=1)"
   ]
  },
  {
   "cell_type": "code",
   "execution_count": 19,
   "metadata": {},
   "outputs": [],
   "source": [
    "monthMap = {1:'01',2:'02',3:'03',4:'04',5:'05',6:'06',7:'07',8:'08',9:'09',10:'10',11:'11',12:'12'}\n",
    "\n",
    "# Extracting Month and Year from Date columns\n",
    "test_df['Year'] = pd.DatetimeIndex(test_df['InvoiceDate']).year\n",
    "test_df['Month'] = pd.DatetimeIndex(test_df['InvoiceDate']).month\n",
    "test_df['YearMonth'] = test_df[\"Year\"].astype(str) + test_df[\"Month\"].map(monthMap)\n",
    "test_df['YearMonth'] = test_df['YearMonth'].apply(lambda x: int(x))"
   ]
  },
  {
   "cell_type": "code",
   "execution_count": 20,
   "metadata": {},
   "outputs": [
    {
     "data": {
      "text/html": [
       "<div>\n",
       "<style scoped>\n",
       "    .dataframe tbody tr th:only-of-type {\n",
       "        vertical-align: middle;\n",
       "    }\n",
       "\n",
       "    .dataframe tbody tr th {\n",
       "        vertical-align: top;\n",
       "    }\n",
       "\n",
       "    .dataframe thead th {\n",
       "        text-align: right;\n",
       "    }\n",
       "</style>\n",
       "<table border=\"1\" class=\"dataframe\">\n",
       "  <thead>\n",
       "    <tr style=\"text-align: right;\">\n",
       "      <th></th>\n",
       "      <th>InvoiceNo</th>\n",
       "      <th>StockCode</th>\n",
       "      <th>Description</th>\n",
       "      <th>Quantity</th>\n",
       "      <th>InvoiceDate</th>\n",
       "      <th>CustomerID</th>\n",
       "      <th>Country</th>\n",
       "      <th>Year</th>\n",
       "      <th>Month</th>\n",
       "      <th>YearMonth</th>\n",
       "      <th>UnitPrice</th>\n",
       "    </tr>\n",
       "  </thead>\n",
       "  <tbody>\n",
       "    <tr>\n",
       "      <th>0</th>\n",
       "      <td>6141</td>\n",
       "      <td>1583</td>\n",
       "      <td>144</td>\n",
       "      <td>3</td>\n",
       "      <td>2011-05-06 16:54:00</td>\n",
       "      <td>14056.0</td>\n",
       "      <td>35</td>\n",
       "      <td>2011</td>\n",
       "      <td>5</td>\n",
       "      <td>201105</td>\n",
       "      <td>3.75</td>\n",
       "    </tr>\n",
       "    <tr>\n",
       "      <th>1</th>\n",
       "      <td>6349</td>\n",
       "      <td>1300</td>\n",
       "      <td>3682</td>\n",
       "      <td>6</td>\n",
       "      <td>2011-05-11 07:35:00</td>\n",
       "      <td>13098.0</td>\n",
       "      <td>35</td>\n",
       "      <td>2011</td>\n",
       "      <td>5</td>\n",
       "      <td>201105</td>\n",
       "      <td>1.95</td>\n",
       "    </tr>\n",
       "    <tr>\n",
       "      <th>2</th>\n",
       "      <td>16783</td>\n",
       "      <td>2178</td>\n",
       "      <td>1939</td>\n",
       "      <td>4</td>\n",
       "      <td>2011-11-20 13:20:00</td>\n",
       "      <td>15044.0</td>\n",
       "      <td>35</td>\n",
       "      <td>2011</td>\n",
       "      <td>11</td>\n",
       "      <td>201111</td>\n",
       "      <td>5.95</td>\n",
       "    </tr>\n",
       "    <tr>\n",
       "      <th>3</th>\n",
       "      <td>16971</td>\n",
       "      <td>2115</td>\n",
       "      <td>2983</td>\n",
       "      <td>1</td>\n",
       "      <td>2011-11-22 12:07:00</td>\n",
       "      <td>15525.0</td>\n",
       "      <td>35</td>\n",
       "      <td>2011</td>\n",
       "      <td>11</td>\n",
       "      <td>201111</td>\n",
       "      <td>0.83</td>\n",
       "    </tr>\n",
       "    <tr>\n",
       "      <th>4</th>\n",
       "      <td>6080</td>\n",
       "      <td>1210</td>\n",
       "      <td>2886</td>\n",
       "      <td>12</td>\n",
       "      <td>2011-05-06 09:00:00</td>\n",
       "      <td>13952.0</td>\n",
       "      <td>35</td>\n",
       "      <td>2011</td>\n",
       "      <td>5</td>\n",
       "      <td>201105</td>\n",
       "      <td>1.65</td>\n",
       "    </tr>\n",
       "  </tbody>\n",
       "</table>\n",
       "</div>"
      ],
      "text/plain": [
       "   InvoiceNo  StockCode  Description  Quantity         InvoiceDate  \\\n",
       "0       6141       1583          144         3 2011-05-06 16:54:00   \n",
       "1       6349       1300         3682         6 2011-05-11 07:35:00   \n",
       "2      16783       2178         1939         4 2011-11-20 13:20:00   \n",
       "3      16971       2115         2983         1 2011-11-22 12:07:00   \n",
       "4       6080       1210         2886        12 2011-05-06 09:00:00   \n",
       "\n",
       "   CustomerID  Country  Year  Month  YearMonth  UnitPrice  \n",
       "0     14056.0       35  2011      5     201105       3.75  \n",
       "1     13098.0       35  2011      5     201105       1.95  \n",
       "2     15044.0       35  2011     11     201111       5.95  \n",
       "3     15525.0       35  2011     11     201111       0.83  \n",
       "4     13952.0       35  2011      5     201105       1.65  "
      ]
     },
     "execution_count": 20,
     "metadata": {},
     "output_type": "execute_result"
    }
   ],
   "source": [
    "train_df.drop(columns=[\"UnitPrice_x\", \"UnitPrice_y\"], inplace=True)\n",
    "train_df.head()"
   ]
  },
  {
   "cell_type": "markdown",
   "metadata": {},
   "source": [
    "### EDA and Feature Engineering on Training Dataset"
   ]
  },
  {
   "cell_type": "code",
   "execution_count": 21,
   "metadata": {},
   "outputs": [],
   "source": [
    "from sklearn.ensemble import RandomForestRegressor\n",
    "from sklearn.model_selection import train_test_split\n",
    "from sklearn.model_selection import GridSearchCV\n",
    "from sklearn.metrics import r2_score, mean_squared_error\n",
    "from sklearn.preprocessing import MinMaxScaler\n",
    "from sklearn.preprocessing import LabelEncoder\n",
    "from sklearn.preprocessing import PowerTransformer"
   ]
  },
  {
   "cell_type": "code",
   "execution_count": 26,
   "metadata": {},
   "outputs": [],
   "source": [
    "X = train_df.drop(columns=[\"InvoiceNo\", 'InvoiceDate','CustomerID', 'Year','Month','UnitPrice'], axis =1)\n",
    "y = train_df['UnitPrice']\n",
    "test_df1 = test_df.copy()\n",
    "test_df1 = test_df1.drop(columns=[\"InvoiceNo\", 'InvoiceDate','CustomerID', 'Year','Month'], axis = 1)\n",
    "\n",
    "labEncoder = LabelEncoder()\n",
    "X['YearMonth'] = labEncoder.fit_transform(X['YearMonth'])\n",
    "test_df1['YearMonth'] = labEncoder.transform(test_df1['YearMonth'])\n",
    "\n",
    "powerTransformer = PowerTransformer()\n",
    "qty = X['Quantity'].values.reshape(-1,1)\n",
    "qty1 = test_df1[\"Quantity\"].values.reshape(-1,1)\n",
    "qty = powerTransformer.fit_transform(qty)\n",
    "qty1 = powerTransformer.transform(qty1)\n",
    "#Appending the transformed columns back to the data frame\n",
    "X['Quantity'] = pd.DataFrame(data=qty)\n",
    "test_df1['Quantity'] = pd.DataFrame(data=qty1)\n",
    "\n",
    "minMaxStockCode = MinMaxScaler()\n",
    "stockcode = X['StockCode'].values.reshape(-1,1)\n",
    "stockcode1 = test_df1['StockCode'].values.reshape(-1,1)\n",
    "stockcode = minMaxStockCode.fit_transform(stockcode)\n",
    "stockcode1 = minMaxStockCode.transform(stockcode1)\n",
    "#Appending the transformed columns back to the data frame\n",
    "X['StockCode'] = pd.DataFrame(data=stockcode)\n",
    "test_df1['StockCode'] = pd.DataFrame(data=stockcode1)\n",
    "\n",
    "minMaxDesc = MinMaxScaler()\n",
    "desc = X['Description'].values.reshape(-1,1)\n",
    "desc1 = test_df1['Description'].values.reshape(-1,1)\n",
    "desc = minMaxDesc.fit_transform(desc)\n",
    "desc1 = minMaxDesc.transform(desc1)\n",
    "#Appending the transformed columns back to the data frame\n",
    "X['Description'] = pd.DataFrame(data=desc)\n",
    "test_df1['Description'] = pd.DataFrame(data=desc1)\n",
    "\n",
    "countryMinMax = MinMaxScaler()\n",
    "cntry = X['Country'].values.reshape(-1,1)\n",
    "cntry1 = test_df1['Country'].values.reshape(-1,1)\n",
    "cntry = countryMinMax.fit_transform(cntry)\n",
    "cntry1 = countryMinMax.transform(cntry1)\n",
    "#Appending the transformed columns back to the data frame\n",
    "X['Country'] = pd.DataFrame(data=cntry)\n",
    "test_df1['Country'] = pd.DataFrame(data=cntry1)\n",
    "\n",
    "output_power_trans = PowerTransformer()\n",
    "y = y.values.reshape(-1,1)\n",
    "y = output_power_trans.fit_transform(y)\n"
   ]
  },
  {
   "cell_type": "code",
   "execution_count": 27,
   "metadata": {},
   "outputs": [],
   "source": [
    "X_train,X_test, y_train, y_test = train_test_split(X,y, train_size = .75, random_state = 42)   "
   ]
  },
  {
   "cell_type": "code",
   "execution_count": 28,
   "metadata": {},
   "outputs": [
    {
     "data": {
      "text/plain": [
       "GridSearchCV(cv=10, estimator=RandomForestRegressor(), n_jobs=-1,\n",
       "             param_grid={'bootstrap': [True], 'max_features': ['auto'],\n",
       "                         'min_samples_split': [1, 2, 4],\n",
       "                         'n_estimators': [5, 10, 20, 23, 26],\n",
       "                         'random_state': [42]})"
      ]
     },
     "execution_count": 28,
     "metadata": {},
     "output_type": "execute_result"
    }
   ],
   "source": [
    "param_grid = { \n",
    "            \"n_estimators\"      : [5,10,20,23,26],\n",
    "            \"max_features\"      : [\"auto\"],\n",
    "            \"min_samples_split\" : [1,2,4],\n",
    "            \"bootstrap\"         : [True],\n",
    "            \"random_state\"      :[42]\n",
    "            }\n",
    "\n",
    "grid = GridSearchCV(RandomForestRegressor(), param_grid, n_jobs=-1, cv=10)\n",
    "grid.fit(X_train, y_train)"
   ]
  },
  {
   "cell_type": "code",
   "execution_count": 29,
   "metadata": {},
   "outputs": [
    {
     "name": "stdout",
     "output_type": "stream",
     "text": [
      "0.9598215753381089\n"
     ]
    }
   ],
   "source": [
    "print(grid.best_score_)  "
   ]
  },
  {
   "cell_type": "code",
   "execution_count": 30,
   "metadata": {},
   "outputs": [
    {
     "name": "stdout",
     "output_type": "stream",
     "text": [
      "{'bootstrap': True, 'max_features': 'auto', 'min_samples_split': 4, 'n_estimators': 23, 'random_state': 42}\n"
     ]
    }
   ],
   "source": [
    "print(grid.best_params_)"
   ]
  },
  {
   "cell_type": "code",
   "execution_count": 31,
   "metadata": {},
   "outputs": [
    {
     "name": "stdout",
     "output_type": "stream",
     "text": [
      "train r2 score: 0.9879736335792656\n",
      "train MSE: 0.012029406676471644\n",
      "Test r2 score: 0.9609523836797501\n",
      "Test MSE: 0.03901460885105794\n"
     ]
    }
   ],
   "source": [
    "model_RF = RandomForestRegressor(n_estimators=23, \n",
    "                                 min_samples_split=4,\n",
    "                                 min_samples_leaf=1, \n",
    "                                 max_features='auto', \n",
    "                                 max_depth=None, \n",
    "                                 bootstrap=True, \n",
    "                                 random_state=42)\n",
    "\n",
    "model_RF.fit(X_train, y_train)\n",
    "y_pred_train = model_RF.predict(X_train)\n",
    "results = r2_score(y_train, y_pred_train)\n",
    "print('train r2 score:', results)\n",
    "results = mean_squared_error(y_train, y_pred_train)\n",
    "print('train MSE:', results)\n",
    "\n",
    "y_pred = model_RF.predict(X_test)\n",
    "results = r2_score(y_test, y_pred)\n",
    "print('Test r2 score:', results)\n",
    "results = mean_squared_error(y_test, y_pred)\n",
    "print('Test MSE:', results)\n"
   ]
  },
  {
   "cell_type": "code",
   "execution_count": 32,
   "metadata": {},
   "outputs": [
    {
     "data": {
      "text/html": [
       "<div>\n",
       "<style scoped>\n",
       "    .dataframe tbody tr th:only-of-type {\n",
       "        vertical-align: middle;\n",
       "    }\n",
       "\n",
       "    .dataframe tbody tr th {\n",
       "        vertical-align: top;\n",
       "    }\n",
       "\n",
       "    .dataframe thead th {\n",
       "        text-align: right;\n",
       "    }\n",
       "</style>\n",
       "<table border=\"1\" class=\"dataframe\">\n",
       "  <thead>\n",
       "    <tr style=\"text-align: right;\">\n",
       "      <th></th>\n",
       "      <th>UnitPrice</th>\n",
       "    </tr>\n",
       "  </thead>\n",
       "  <tbody>\n",
       "    <tr>\n",
       "      <th>0</th>\n",
       "      <td>1.65</td>\n",
       "    </tr>\n",
       "    <tr>\n",
       "      <th>1</th>\n",
       "      <td>1.25</td>\n",
       "    </tr>\n",
       "    <tr>\n",
       "      <th>2</th>\n",
       "      <td>3.76</td>\n",
       "    </tr>\n",
       "    <tr>\n",
       "      <th>3</th>\n",
       "      <td>1.65</td>\n",
       "    </tr>\n",
       "    <tr>\n",
       "      <th>4</th>\n",
       "      <td>12.75</td>\n",
       "    </tr>\n",
       "  </tbody>\n",
       "</table>\n",
       "</div>"
      ],
      "text/plain": [
       "   UnitPrice\n",
       "0       1.65\n",
       "1       1.25\n",
       "2       3.76\n",
       "3       1.65\n",
       "4      12.75"
      ]
     },
     "execution_count": 32,
     "metadata": {},
     "output_type": "execute_result"
    }
   ],
   "source": [
    "finalPrediction = model_RF.predict(test_df1)\n",
    "\n",
    "finalPrediction = output_power_trans.inverse_transform(finalPrediction.reshape(-1,1))\n",
    "test_unitPrice = pd.DataFrame(data=finalPrediction,columns=[\"UnitPrice\"])\n",
    "test_unitPrice['UnitPrice'] = test_unitPrice['UnitPrice'].apply(lambda x: round(x,2))\n",
    "test_unitPrice.head()"
   ]
  },
  {
   "cell_type": "code",
   "execution_count": 33,
   "metadata": {},
   "outputs": [],
   "source": [
    "test_unitPrice.to_csv(os.path.join(data_dir,\n",
    "                                   'Final_submission_RandomForestRegressor.csv' ), index=False)"
   ]
  },
  {
   "cell_type": "code",
   "execution_count": null,
   "metadata": {},
   "outputs": [],
   "source": []
  }
 ],
 "metadata": {
  "kernelspec": {
   "display_name": "Python 3",
   "language": "python",
   "name": "python3"
  },
  "language_info": {
   "codemirror_mode": {
    "name": "ipython",
    "version": 3
   },
   "file_extension": ".py",
   "mimetype": "text/x-python",
   "name": "python",
   "nbconvert_exporter": "python",
   "pygments_lexer": "ipython3",
   "version": "3.7.9"
  }
 },
 "nbformat": 4,
 "nbformat_minor": 4
}
