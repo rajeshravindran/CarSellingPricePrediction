{
 "cells": [
  {
   "cell_type": "code",
   "execution_count": 1,
   "metadata": {},
   "outputs": [],
   "source": [
    "import warnings\n",
    "warnings.filterwarnings('ignore')"
   ]
  },
  {
   "cell_type": "code",
   "execution_count": 2,
   "metadata": {},
   "outputs": [],
   "source": [
    "#IMPORTING REQUIRED LIBRARIES\n",
    "\n",
    "import pandas as pd\n",
    "import numpy as np \n",
    "import os\n",
    "import datetime\n",
    "\n",
    "import matplotlib.pyplot as plt\n",
    "\n",
    "import seaborn as sns \n",
    "sns.set_style('whitegrid')\n",
    "\n",
    "import matplotlib\n",
    "\n",
    "%matplotlib inline"
   ]
  },
  {
   "cell_type": "markdown",
   "metadata": {},
   "source": [
    "### Loading data for Analysis"
   ]
  },
  {
   "cell_type": "code",
   "execution_count": 3,
   "metadata": {},
   "outputs": [],
   "source": [
    "root_dir  = os.path.abspath('.')\n",
    "data_dir  = os.path.join(root_dir, 'data')\n",
    "train     = os.path.join(data_dir,'Train.csv')\n",
    "test      = os.path.join(data_dir,'Test.csv' )\n",
    "submt_fil = os.path.join(data_dir,'Final_submission.csv' )"
   ]
  },
  {
   "cell_type": "code",
   "execution_count": 4,
   "metadata": {},
   "outputs": [
    {
     "data": {
      "text/html": [
       "<div>\n",
       "<style scoped>\n",
       "    .dataframe tbody tr th:only-of-type {\n",
       "        vertical-align: middle;\n",
       "    }\n",
       "\n",
       "    .dataframe tbody tr th {\n",
       "        vertical-align: top;\n",
       "    }\n",
       "\n",
       "    .dataframe thead th {\n",
       "        text-align: right;\n",
       "    }\n",
       "</style>\n",
       "<table border=\"1\" class=\"dataframe\">\n",
       "  <thead>\n",
       "    <tr style=\"text-align: right;\">\n",
       "      <th></th>\n",
       "      <th>InvoiceNo</th>\n",
       "      <th>StockCode</th>\n",
       "      <th>Description</th>\n",
       "      <th>Quantity</th>\n",
       "      <th>InvoiceDate</th>\n",
       "      <th>UnitPrice</th>\n",
       "      <th>CustomerID</th>\n",
       "      <th>Country</th>\n",
       "    </tr>\n",
       "  </thead>\n",
       "  <tbody>\n",
       "    <tr>\n",
       "      <th>0</th>\n",
       "      <td>6141</td>\n",
       "      <td>1583</td>\n",
       "      <td>144</td>\n",
       "      <td>3</td>\n",
       "      <td>2011-05-06 16:54:00</td>\n",
       "      <td>3.75</td>\n",
       "      <td>14056.0</td>\n",
       "      <td>35</td>\n",
       "    </tr>\n",
       "    <tr>\n",
       "      <th>1</th>\n",
       "      <td>6349</td>\n",
       "      <td>1300</td>\n",
       "      <td>3682</td>\n",
       "      <td>6</td>\n",
       "      <td>2011-05-11 07:35:00</td>\n",
       "      <td>1.95</td>\n",
       "      <td>13098.0</td>\n",
       "      <td>35</td>\n",
       "    </tr>\n",
       "    <tr>\n",
       "      <th>2</th>\n",
       "      <td>16783</td>\n",
       "      <td>2178</td>\n",
       "      <td>1939</td>\n",
       "      <td>4</td>\n",
       "      <td>2011-11-20 13:20:00</td>\n",
       "      <td>5.95</td>\n",
       "      <td>15044.0</td>\n",
       "      <td>35</td>\n",
       "    </tr>\n",
       "    <tr>\n",
       "      <th>3</th>\n",
       "      <td>16971</td>\n",
       "      <td>2115</td>\n",
       "      <td>2983</td>\n",
       "      <td>1</td>\n",
       "      <td>2011-11-22 12:07:00</td>\n",
       "      <td>0.83</td>\n",
       "      <td>15525.0</td>\n",
       "      <td>35</td>\n",
       "    </tr>\n",
       "    <tr>\n",
       "      <th>4</th>\n",
       "      <td>6080</td>\n",
       "      <td>1210</td>\n",
       "      <td>2886</td>\n",
       "      <td>12</td>\n",
       "      <td>2011-05-06 09:00:00</td>\n",
       "      <td>1.65</td>\n",
       "      <td>13952.0</td>\n",
       "      <td>35</td>\n",
       "    </tr>\n",
       "  </tbody>\n",
       "</table>\n",
       "</div>"
      ],
      "text/plain": [
       "   InvoiceNo  StockCode  Description  Quantity          InvoiceDate  \\\n",
       "0       6141       1583          144         3  2011-05-06 16:54:00   \n",
       "1       6349       1300         3682         6  2011-05-11 07:35:00   \n",
       "2      16783       2178         1939         4  2011-11-20 13:20:00   \n",
       "3      16971       2115         2983         1  2011-11-22 12:07:00   \n",
       "4       6080       1210         2886        12  2011-05-06 09:00:00   \n",
       "\n",
       "   UnitPrice  CustomerID  Country  \n",
       "0       3.75     14056.0       35  \n",
       "1       1.95     13098.0       35  \n",
       "2       5.95     15044.0       35  \n",
       "3       0.83     15525.0       35  \n",
       "4       1.65     13952.0       35  "
      ]
     },
     "execution_count": 4,
     "metadata": {},
     "output_type": "execute_result"
    }
   ],
   "source": [
    "train_df = pd.read_csv(train)\n",
    "train_df.head()"
   ]
  },
  {
   "cell_type": "code",
   "execution_count": 5,
   "metadata": {},
   "outputs": [
    {
     "name": "stdout",
     "output_type": "stream",
     "text": [
      "<class 'pandas.core.frame.DataFrame'>\n",
      "RangeIndex: 284780 entries, 0 to 284779\n",
      "Data columns (total 8 columns):\n",
      " #   Column       Non-Null Count   Dtype  \n",
      "---  ------       --------------   -----  \n",
      " 0   InvoiceNo    284780 non-null  int64  \n",
      " 1   StockCode    284780 non-null  int64  \n",
      " 2   Description  284780 non-null  int64  \n",
      " 3   Quantity     284780 non-null  int64  \n",
      " 4   InvoiceDate  284780 non-null  object \n",
      " 5   UnitPrice    284780 non-null  float64\n",
      " 6   CustomerID   284780 non-null  float64\n",
      " 7   Country      284780 non-null  int64  \n",
      "dtypes: float64(2), int64(5), object(1)\n",
      "memory usage: 17.4+ MB\n"
     ]
    }
   ],
   "source": [
    "train_df.info()"
   ]
  },
  {
   "cell_type": "code",
   "execution_count": 6,
   "metadata": {},
   "outputs": [
    {
     "data": {
      "text/plain": [
       "(284780, 8)"
      ]
     },
     "execution_count": 6,
     "metadata": {},
     "output_type": "execute_result"
    }
   ],
   "source": [
    "train_df.shape"
   ]
  },
  {
   "cell_type": "code",
   "execution_count": 7,
   "metadata": {},
   "outputs": [
    {
     "data": {
      "text/plain": [
       "InvoiceNo      0\n",
       "StockCode      0\n",
       "Description    0\n",
       "Quantity       0\n",
       "InvoiceDate    0\n",
       "UnitPrice      0\n",
       "CustomerID     0\n",
       "Country        0\n",
       "dtype: int64"
      ]
     },
     "execution_count": 7,
     "metadata": {},
     "output_type": "execute_result"
    }
   ],
   "source": [
    "train_df.isnull().sum()"
   ]
  },
  {
   "cell_type": "code",
   "execution_count": 8,
   "metadata": {},
   "outputs": [
    {
     "data": {
      "text/html": [
       "<div>\n",
       "<style scoped>\n",
       "    .dataframe tbody tr th:only-of-type {\n",
       "        vertical-align: middle;\n",
       "    }\n",
       "\n",
       "    .dataframe tbody tr th {\n",
       "        vertical-align: top;\n",
       "    }\n",
       "\n",
       "    .dataframe thead th {\n",
       "        text-align: right;\n",
       "    }\n",
       "</style>\n",
       "<table border=\"1\" class=\"dataframe\">\n",
       "  <thead>\n",
       "    <tr style=\"text-align: right;\">\n",
       "      <th></th>\n",
       "      <th>InvoiceNo</th>\n",
       "      <th>StockCode</th>\n",
       "      <th>Description</th>\n",
       "      <th>Quantity</th>\n",
       "      <th>InvoiceDate</th>\n",
       "      <th>CustomerID</th>\n",
       "      <th>Country</th>\n",
       "    </tr>\n",
       "  </thead>\n",
       "  <tbody>\n",
       "    <tr>\n",
       "      <th>0</th>\n",
       "      <td>3139</td>\n",
       "      <td>1709</td>\n",
       "      <td>1079</td>\n",
       "      <td>3</td>\n",
       "      <td>2011-02-22 15:22:00</td>\n",
       "      <td>16161.0</td>\n",
       "      <td>35</td>\n",
       "    </tr>\n",
       "    <tr>\n",
       "      <th>1</th>\n",
       "      <td>617</td>\n",
       "      <td>510</td>\n",
       "      <td>3457</td>\n",
       "      <td>1</td>\n",
       "      <td>2010-12-08 12:46:00</td>\n",
       "      <td>17341.0</td>\n",
       "      <td>35</td>\n",
       "    </tr>\n",
       "    <tr>\n",
       "      <th>2</th>\n",
       "      <td>14653</td>\n",
       "      <td>604</td>\n",
       "      <td>694</td>\n",
       "      <td>36</td>\n",
       "      <td>2011-10-25 13:53:00</td>\n",
       "      <td>15158.0</td>\n",
       "      <td>35</td>\n",
       "    </tr>\n",
       "    <tr>\n",
       "      <th>3</th>\n",
       "      <td>8634</td>\n",
       "      <td>1478</td>\n",
       "      <td>3473</td>\n",
       "      <td>2</td>\n",
       "      <td>2011-06-27 12:38:00</td>\n",
       "      <td>16033.0</td>\n",
       "      <td>35</td>\n",
       "    </tr>\n",
       "    <tr>\n",
       "      <th>4</th>\n",
       "      <td>15546</td>\n",
       "      <td>3216</td>\n",
       "      <td>871</td>\n",
       "      <td>1</td>\n",
       "      <td>2011-11-06 16:14:00</td>\n",
       "      <td>15351.0</td>\n",
       "      <td>35</td>\n",
       "    </tr>\n",
       "  </tbody>\n",
       "</table>\n",
       "</div>"
      ],
      "text/plain": [
       "   InvoiceNo  StockCode  Description  Quantity          InvoiceDate  \\\n",
       "0       3139       1709         1079         3  2011-02-22 15:22:00   \n",
       "1        617        510         3457         1  2010-12-08 12:46:00   \n",
       "2      14653        604          694        36  2011-10-25 13:53:00   \n",
       "3       8634       1478         3473         2  2011-06-27 12:38:00   \n",
       "4      15546       3216          871         1  2011-11-06 16:14:00   \n",
       "\n",
       "   CustomerID  Country  \n",
       "0     16161.0       35  \n",
       "1     17341.0       35  \n",
       "2     15158.0       35  \n",
       "3     16033.0       35  \n",
       "4     15351.0       35  "
      ]
     },
     "execution_count": 8,
     "metadata": {},
     "output_type": "execute_result"
    }
   ],
   "source": [
    "test_df = pd.read_csv(test)\n",
    "test_df.head()"
   ]
  },
  {
   "cell_type": "code",
   "execution_count": 9,
   "metadata": {},
   "outputs": [
    {
     "data": {
      "text/plain": [
       "(122049, 7)"
      ]
     },
     "execution_count": 9,
     "metadata": {},
     "output_type": "execute_result"
    }
   ],
   "source": [
    "test_df.shape"
   ]
  },
  {
   "cell_type": "code",
   "execution_count": 10,
   "metadata": {},
   "outputs": [
    {
     "name": "stdout",
     "output_type": "stream",
     "text": [
      "<class 'pandas.core.frame.DataFrame'>\n",
      "RangeIndex: 122049 entries, 0 to 122048\n",
      "Data columns (total 7 columns):\n",
      " #   Column       Non-Null Count   Dtype  \n",
      "---  ------       --------------   -----  \n",
      " 0   InvoiceNo    122049 non-null  int64  \n",
      " 1   StockCode    122049 non-null  int64  \n",
      " 2   Description  122049 non-null  int64  \n",
      " 3   Quantity     122049 non-null  int64  \n",
      " 4   InvoiceDate  122049 non-null  object \n",
      " 5   CustomerID   122049 non-null  float64\n",
      " 6   Country      122049 non-null  int64  \n",
      "dtypes: float64(1), int64(5), object(1)\n",
      "memory usage: 6.5+ MB\n"
     ]
    }
   ],
   "source": [
    "test_df.info()"
   ]
  },
  {
   "cell_type": "code",
   "execution_count": 11,
   "metadata": {},
   "outputs": [
    {
     "data": {
      "text/plain": [
       "InvoiceNo      0\n",
       "StockCode      0\n",
       "Description    0\n",
       "Quantity       0\n",
       "InvoiceDate    0\n",
       "CustomerID     0\n",
       "Country        0\n",
       "dtype: int64"
      ]
     },
     "execution_count": 11,
     "metadata": {},
     "output_type": "execute_result"
    }
   ],
   "source": [
    "test_df.isnull().sum()"
   ]
  },
  {
   "cell_type": "code",
   "execution_count": 12,
   "metadata": {},
   "outputs": [
    {
     "name": "stdout",
     "output_type": "stream",
     "text": [
      "<class 'pandas.core.frame.DataFrame'>\n",
      "RangeIndex: 284780 entries, 0 to 284779\n",
      "Data columns (total 8 columns):\n",
      " #   Column       Non-Null Count   Dtype         \n",
      "---  ------       --------------   -----         \n",
      " 0   InvoiceNo    284780 non-null  int64         \n",
      " 1   StockCode    284780 non-null  int64         \n",
      " 2   Description  284780 non-null  int64         \n",
      " 3   Quantity     284780 non-null  int64         \n",
      " 4   InvoiceDate  284780 non-null  datetime64[ns]\n",
      " 5   UnitPrice    284780 non-null  float64       \n",
      " 6   CustomerID   284780 non-null  float64       \n",
      " 7   Country      284780 non-null  int64         \n",
      "dtypes: datetime64[ns](1), float64(2), int64(5)\n",
      "memory usage: 17.4 MB\n",
      "None\n",
      "<class 'pandas.core.frame.DataFrame'>\n",
      "RangeIndex: 122049 entries, 0 to 122048\n",
      "Data columns (total 7 columns):\n",
      " #   Column       Non-Null Count   Dtype         \n",
      "---  ------       --------------   -----         \n",
      " 0   InvoiceNo    122049 non-null  int64         \n",
      " 1   StockCode    122049 non-null  int64         \n",
      " 2   Description  122049 non-null  int64         \n",
      " 3   Quantity     122049 non-null  int64         \n",
      " 4   InvoiceDate  122049 non-null  datetime64[ns]\n",
      " 5   CustomerID   122049 non-null  float64       \n",
      " 6   Country      122049 non-null  int64         \n",
      "dtypes: datetime64[ns](1), float64(1), int64(5)\n",
      "memory usage: 6.5 MB\n",
      "None\n"
     ]
    }
   ],
   "source": [
    "#Converting InvoiceDate column to datetime.\n",
    "\n",
    "train_df['InvoiceDate'] = pd.to_datetime(train_df['InvoiceDate'], errors='coerce')\n",
    "test_df['InvoiceDate'] = pd.to_datetime(test_df['InvoiceDate'], errors='coerce')\n",
    "\n",
    "print(train_df.info())\n",
    "print(test_df.info())"
   ]
  },
  {
   "cell_type": "markdown",
   "metadata": {},
   "source": [
    "### EDA and Feature Engineering on Training Dataset"
   ]
  },
  {
   "cell_type": "code",
   "execution_count": 13,
   "metadata": {},
   "outputs": [],
   "source": [
    "monthMap = {1:'01',2:'02',3:'03',4:'04',5:'05',6:'06',7:'07',8:'08',9:'09',10:'10',11:'11',12:'12'}\n",
    "\n",
    "# Extracting Month and Year from Date columns\n",
    "train_df['Year'] = pd.DatetimeIndex(train_df['InvoiceDate']).year\n",
    "train_df['Month'] = pd.DatetimeIndex(train_df['InvoiceDate']).month\n",
    "#df.Month.apply(lambda x: datetime.strptime(str(x), '%m').strftime('%b'))\n",
    "#train_df['MonthName'] = train_df.Month.apply(lambda x: datetime.datetime.strptime(str(x), '%m').strftime('%b'))\n",
    "train_df['YearMonth'] = train_df[\"Year\"].astype(str) + train_df[\"Month\"].map(monthMap)\n",
    "train_df['YearMonth'] = train_df['YearMonth'].apply(lambda x: int(x))"
   ]
  },
  {
   "cell_type": "code",
   "execution_count": 14,
   "metadata": {},
   "outputs": [],
   "source": [
    "def ShowValueCounts(df, feature, normalize=False, Sorted=False):\n",
    "    x = df[feature].value_counts(normalize=normalize).rename_axis(feature).reset_index(name='counts')\n",
    "    plt.figure(figsize=(15,10))\n",
    "    if Sorted:\n",
    "        sns.barplot(x = feature, y = 'counts', data = x.loc[:25] , order=x.loc[:25].sort_values('counts', ascending=False)[feature])\n",
    "    else:\n",
    "        sns.barplot(x = feature, y = 'counts', data = x.loc[:25])\n",
    "    plt.show()"
   ]
  },
  {
   "cell_type": "code",
   "execution_count": 15,
   "metadata": {},
   "outputs": [
    {
     "data": {
      "image/png": "[encoded data removed]",
      "text/plain": [
       "<Figure size 1080x720 with 1 Axes>"
      ]
     },
     "metadata": {
      "needs_background": "light"
     },
     "output_type": "display_data"
    }
   ],
   "source": [
    "#Visualizing based on StockCode\n",
    "ShowValueCounts(train_df, 'StockCode',normalize=True,Sorted=True)"
   ]
  },
  {
   "cell_type": "markdown",
   "metadata": {},
   "source": [
    "##### Above we have plotted top 25 Stockcode sold "
   ]
  },
  {
   "cell_type": "code",
   "execution_count": 16,
   "metadata": {},
   "outputs": [
    {
     "data": {
      "image/png": "[encoded data removed]",
      "text/plain": [
       "<Figure size 1080x720 with 1 Axes>"
      ]
     },
     "metadata": {
      "needs_background": "light"
     },
     "output_type": "display_data"
    }
   ],
   "source": [
    "#Visualizing counts based on Description\n",
    "ShowValueCounts(train_df, 'Description',normalize=True, Sorted=True)"
   ]
  },
  {
   "cell_type": "code",
   "execution_count": 17,
   "metadata": {},
   "outputs": [
    {
     "data": {
      "image/png": "[encoded data removed]",
      "text/plain": [
       "<Figure size 1080x720 with 1 Axes>"
      ]
     },
     "metadata": {
      "needs_background": "light"
     },
     "output_type": "display_data"
    }
   ],
   "source": [
    "#Visualizing Counts based on Year\n",
    "ShowValueCounts(train_df, 'Year', Sorted=True)"
   ]
  },
  {
   "cell_type": "markdown",
   "metadata": {},
   "source": [
    "There is only few months of 2010 available, hence the value counts are low "
   ]
  },
  {
   "cell_type": "code",
   "execution_count": 18,
   "metadata": {},
   "outputs": [
    {
     "data": {
      "image/png": "[encoded data removed]",
      "text/plain": [
       "<Figure size 1080x720 with 1 Axes>"
      ]
     },
     "metadata": {
      "needs_background": "light"
     },
     "output_type": "display_data"
    }
   ],
   "source": [
    "#Visualizing Counts based on Month\n",
    "ShowValueCounts(train_df, 'Month',normalize=True, Sorted=False)"
   ]
  },
  {
   "cell_type": "markdown",
   "metadata": {},
   "source": [
    "#### 11, 10, 12, 9 months where higher items sold while 2 is when the least products are sold. Months 6, 3, 7, 8 Almost same quantity of amount being sold. "
   ]
  },
  {
   "cell_type": "code",
   "execution_count": 19,
   "metadata": {},
   "outputs": [
    {
     "data": {
      "image/png": "[encoded data removed]",
      "text/plain": [
       "<Figure size 1080x720 with 1 Axes>"
      ]
     },
     "metadata": {
      "needs_background": "light"
     },
     "output_type": "display_data"
    }
   ],
   "source": [
    "#Visualizing Counts based on year/Month\n",
    "ShowValueCounts(train_df, 'YearMonth')"
   ]
  },
  {
   "cell_type": "code",
   "execution_count": 20,
   "metadata": {},
   "outputs": [
    {
     "data": {
      "image/png": "[encoded data removed]",
      "text/plain": [
       "<Figure size 1080x720 with 1 Axes>"
      ]
     },
     "metadata": {
      "needs_background": "light"
     },
     "output_type": "display_data"
    }
   ],
   "source": [
    "#Visualizing Counts based on Quantity Sold\n",
    "ShowValueCounts(train_df, 'Quantity')"
   ]
  },
  {
   "cell_type": "markdown",
   "metadata": {},
   "source": [
    "From the above, we can see there are negative Quantity Sold. This needs to be analyzed further. \n",
    "\n",
    "There are also Higher number of quantity sold, We will look into these cases in detail. "
   ]
  },
  {
   "cell_type": "code",
   "execution_count": 21,
   "metadata": {},
   "outputs": [
    {
     "data": {
      "image/png": "[encoded data removed]",
      "text/plain": [
       "<Figure size 1080x720 with 1 Axes>"
      ]
     },
     "metadata": {
      "needs_background": "light"
     },
     "output_type": "display_data"
    }
   ],
   "source": [
    "#Visualizing Counts based on Customer\n",
    "ShowValueCounts(train_df, 'CustomerID',normalize=True,Sorted=True)"
   ]
  },
  {
   "cell_type": "markdown",
   "metadata": {},
   "source": [
    "There are few customers who are frequent buyers, while some are not."
   ]
  },
  {
   "cell_type": "code",
   "execution_count": 22,
   "metadata": {},
   "outputs": [
    {
     "data": {
      "image/png": "[encoded data removed]",
      "text/plain": [
       "<Figure size 1080x720 with 1 Axes>"
      ]
     },
     "metadata": {
      "needs_background": "light"
     },
     "output_type": "display_data"
    }
   ],
   "source": [
    "#Visualizing Counts based on Country\n",
    "ShowValueCounts(train_df, 'Country',normalize=True)"
   ]
  },
  {
   "cell_type": "markdown",
   "metadata": {},
   "source": [
    "Country ID 35 is the highest sold, while there are few countries which are sold very less. "
   ]
  },
  {
   "cell_type": "code",
   "execution_count": 23,
   "metadata": {},
   "outputs": [
    {
     "data": {
      "image/png": "[encoded data removed]",
      "text/plain": [
       "<Figure size 432x288 with 1 Axes>"
      ]
     },
     "metadata": {
      "needs_background": "light"
     },
     "output_type": "display_data"
    }
   ],
   "source": [
    "#verifying the price fluctuations for stockcode\n",
    "plt.scatter(train_df.StockCode, train_df.UnitPrice)\n",
    "plt.show()"
   ]
  },
  {
   "cell_type": "markdown",
   "metadata": {},
   "source": [
    "From the above plot we can see there are outliers with unitprice going upto 40000. Let us check what this outlier is and how it can be treated.\n",
    "\n"
   ]
  },
  {
   "cell_type": "code",
   "execution_count": 24,
   "metadata": {},
   "outputs": [
    {
     "data": {
      "text/plain": [
       "array([3680, 3681, 3679, 3678, 3683])"
      ]
     },
     "execution_count": 24,
     "metadata": {},
     "output_type": "execute_result"
    }
   ],
   "source": [
    "x = train_df.loc[train_df.UnitPrice >= 1000]\n",
    "x.StockCode.unique()"
   ]
  },
  {
   "cell_type": "code",
   "execution_count": 25,
   "metadata": {},
   "outputs": [
    {
     "data": {
      "text/html": [
       "<div>\n",
       "<style scoped>\n",
       "    .dataframe tbody tr th:only-of-type {\n",
       "        vertical-align: middle;\n",
       "    }\n",
       "\n",
       "    .dataframe tbody tr th {\n",
       "        vertical-align: top;\n",
       "    }\n",
       "\n",
       "    .dataframe thead th {\n",
       "        text-align: right;\n",
       "    }\n",
       "</style>\n",
       "<table border=\"1\" class=\"dataframe\">\n",
       "  <thead>\n",
       "    <tr style=\"text-align: right;\">\n",
       "      <th></th>\n",
       "      <th>InvoiceNo</th>\n",
       "      <th>StockCode</th>\n",
       "      <th>Description</th>\n",
       "      <th>Quantity</th>\n",
       "      <th>InvoiceDate</th>\n",
       "      <th>CustomerID</th>\n",
       "      <th>Country</th>\n",
       "    </tr>\n",
       "  </thead>\n",
       "  <tbody>\n",
       "    <tr>\n",
       "      <th>362</th>\n",
       "      <td>3711</td>\n",
       "      <td>3681</td>\n",
       "      <td>2140</td>\n",
       "      <td>1</td>\n",
       "      <td>2011-03-09 09:50:00</td>\n",
       "      <td>12924.0</td>\n",
       "      <td>35</td>\n",
       "    </tr>\n",
       "    <tr>\n",
       "      <th>640</th>\n",
       "      <td>2524</td>\n",
       "      <td>3683</td>\n",
       "      <td>2624</td>\n",
       "      <td>3</td>\n",
       "      <td>2011-02-03 13:30:00</td>\n",
       "      <td>12464.0</td>\n",
       "      <td>3</td>\n",
       "    </tr>\n",
       "    <tr>\n",
       "      <th>679</th>\n",
       "      <td>7846</td>\n",
       "      <td>3683</td>\n",
       "      <td>2624</td>\n",
       "      <td>1</td>\n",
       "      <td>2011-06-09 13:09:00</td>\n",
       "      <td>12399.0</td>\n",
       "      <td>3</td>\n",
       "    </tr>\n",
       "    <tr>\n",
       "      <th>1345</th>\n",
       "      <td>12623</td>\n",
       "      <td>3683</td>\n",
       "      <td>2624</td>\n",
       "      <td>1</td>\n",
       "      <td>2011-09-22 16:58:00</td>\n",
       "      <td>12437.0</td>\n",
       "      <td>13</td>\n",
       "    </tr>\n",
       "    <tr>\n",
       "      <th>1601</th>\n",
       "      <td>16500</td>\n",
       "      <td>3683</td>\n",
       "      <td>2624</td>\n",
       "      <td>1</td>\n",
       "      <td>2011-11-17 09:34:00</td>\n",
       "      <td>12610.0</td>\n",
       "      <td>18</td>\n",
       "    </tr>\n",
       "  </tbody>\n",
       "</table>\n",
       "</div>"
      ],
      "text/plain": [
       "      InvoiceNo  StockCode  Description  Quantity         InvoiceDate  \\\n",
       "362        3711       3681         2140         1 2011-03-09 09:50:00   \n",
       "640        2524       3683         2624         3 2011-02-03 13:30:00   \n",
       "679        7846       3683         2624         1 2011-06-09 13:09:00   \n",
       "1345      12623       3683         2624         1 2011-09-22 16:58:00   \n",
       "1601      16500       3683         2624         1 2011-11-17 09:34:00   \n",
       "\n",
       "      CustomerID  Country  \n",
       "362      12924.0       35  \n",
       "640      12464.0        3  \n",
       "679      12399.0        3  \n",
       "1345     12437.0       13  \n",
       "1601     12610.0       18  "
      ]
     },
     "execution_count": 25,
     "metadata": {},
     "output_type": "execute_result"
    }
   ],
   "source": [
    "#Checking for these values in test dataset \n",
    "y = test_df.loc[test_df.StockCode.isin(x.StockCode.unique())]\n",
    "y.head()"
   ]
  },
  {
   "cell_type": "code",
   "execution_count": 26,
   "metadata": {},
   "outputs": [
    {
     "data": {
      "text/html": [
       "<div>\n",
       "<style scoped>\n",
       "    .dataframe tbody tr th:only-of-type {\n",
       "        vertical-align: middle;\n",
       "    }\n",
       "\n",
       "    .dataframe tbody tr th {\n",
       "        vertical-align: top;\n",
       "    }\n",
       "\n",
       "    .dataframe thead th {\n",
       "        text-align: right;\n",
       "    }\n",
       "</style>\n",
       "<table border=\"1\" class=\"dataframe\">\n",
       "  <thead>\n",
       "    <tr style=\"text-align: right;\">\n",
       "      <th></th>\n",
       "      <th>InvoiceNo</th>\n",
       "      <th>StockCode</th>\n",
       "      <th>Description</th>\n",
       "      <th>Quantity</th>\n",
       "      <th>InvoiceDate</th>\n",
       "      <th>UnitPrice</th>\n",
       "      <th>CustomerID</th>\n",
       "      <th>Country</th>\n",
       "      <th>Year</th>\n",
       "      <th>Month</th>\n",
       "      <th>YearMonth</th>\n",
       "    </tr>\n",
       "  </thead>\n",
       "  <tbody>\n",
       "    <tr>\n",
       "      <th>258</th>\n",
       "      <td>2087</td>\n",
       "      <td>3683</td>\n",
       "      <td>2624</td>\n",
       "      <td>2</td>\n",
       "      <td>2011-01-24 12:58:00</td>\n",
       "      <td>18.0</td>\n",
       "      <td>12693.0</td>\n",
       "      <td>14</td>\n",
       "      <td>2011</td>\n",
       "      <td>1</td>\n",
       "      <td>201101</td>\n",
       "    </tr>\n",
       "    <tr>\n",
       "      <th>474</th>\n",
       "      <td>9788</td>\n",
       "      <td>3683</td>\n",
       "      <td>2624</td>\n",
       "      <td>1</td>\n",
       "      <td>2011-07-24 13:18:00</td>\n",
       "      <td>2.9</td>\n",
       "      <td>17935.0</td>\n",
       "      <td>35</td>\n",
       "      <td>2011</td>\n",
       "      <td>7</td>\n",
       "      <td>201107</td>\n",
       "    </tr>\n",
       "    <tr>\n",
       "      <th>543</th>\n",
       "      <td>1658</td>\n",
       "      <td>3683</td>\n",
       "      <td>2624</td>\n",
       "      <td>5</td>\n",
       "      <td>2011-01-11 07:57:00</td>\n",
       "      <td>18.0</td>\n",
       "      <td>12736.0</td>\n",
       "      <td>13</td>\n",
       "      <td>2011</td>\n",
       "      <td>1</td>\n",
       "      <td>201101</td>\n",
       "    </tr>\n",
       "    <tr>\n",
       "      <th>910</th>\n",
       "      <td>15581</td>\n",
       "      <td>3683</td>\n",
       "      <td>2624</td>\n",
       "      <td>5</td>\n",
       "      <td>2011-11-07 12:27:00</td>\n",
       "      <td>15.0</td>\n",
       "      <td>12408.0</td>\n",
       "      <td>3</td>\n",
       "      <td>2011</td>\n",
       "      <td>11</td>\n",
       "      <td>201111</td>\n",
       "    </tr>\n",
       "    <tr>\n",
       "      <th>1380</th>\n",
       "      <td>6811</td>\n",
       "      <td>3683</td>\n",
       "      <td>2624</td>\n",
       "      <td>4</td>\n",
       "      <td>2011-05-19 08:26:00</td>\n",
       "      <td>18.0</td>\n",
       "      <td>12481.0</td>\n",
       "      <td>14</td>\n",
       "      <td>2011</td>\n",
       "      <td>5</td>\n",
       "      <td>201105</td>\n",
       "    </tr>\n",
       "  </tbody>\n",
       "</table>\n",
       "</div>"
      ],
      "text/plain": [
       "      InvoiceNo  StockCode  Description  Quantity         InvoiceDate  \\\n",
       "258        2087       3683         2624         2 2011-01-24 12:58:00   \n",
       "474        9788       3683         2624         1 2011-07-24 13:18:00   \n",
       "543        1658       3683         2624         5 2011-01-11 07:57:00   \n",
       "910       15581       3683         2624         5 2011-11-07 12:27:00   \n",
       "1380       6811       3683         2624         4 2011-05-19 08:26:00   \n",
       "\n",
       "      UnitPrice  CustomerID  Country  Year  Month  YearMonth  \n",
       "258        18.0     12693.0       14  2011      1     201101  \n",
       "474         2.9     17935.0       35  2011      7     201107  \n",
       "543        18.0     12736.0       13  2011      1     201101  \n",
       "910        15.0     12408.0        3  2011     11     201111  \n",
       "1380       18.0     12481.0       14  2011      5     201105  "
      ]
     },
     "execution_count": 26,
     "metadata": {},
     "output_type": "execute_result"
    }
   ],
   "source": [
    "x = train_df.loc[train_df.StockCode.isin(x.StockCode.unique())]\n",
    "x.head()"
   ]
  },
  {
   "cell_type": "markdown",
   "metadata": {},
   "source": [
    "#### It looks like these 4 products are ranging Between 2.9 to over 1000. We will update the UnitPrice value to median of the value. grouped by CountryID. "
   ]
  },
  {
   "cell_type": "code",
   "execution_count": 27,
   "metadata": {},
   "outputs": [
    {
     "data": {
      "text/html": [
       "<div>\n",
       "<style scoped>\n",
       "    .dataframe tbody tr th:only-of-type {\n",
       "        vertical-align: middle;\n",
       "    }\n",
       "\n",
       "    .dataframe tbody tr th {\n",
       "        vertical-align: top;\n",
       "    }\n",
       "\n",
       "    .dataframe thead th {\n",
       "        text-align: right;\n",
       "    }\n",
       "</style>\n",
       "<table border=\"1\" class=\"dataframe\">\n",
       "  <thead>\n",
       "    <tr style=\"text-align: right;\">\n",
       "      <th></th>\n",
       "      <th>StockCode</th>\n",
       "      <th>Country</th>\n",
       "      <th>UnitPrice</th>\n",
       "    </tr>\n",
       "  </thead>\n",
       "  <tbody>\n",
       "    <tr>\n",
       "      <th>0</th>\n",
       "      <td>3678</td>\n",
       "      <td>35</td>\n",
       "      <td>464.715</td>\n",
       "    </tr>\n",
       "    <tr>\n",
       "      <th>1</th>\n",
       "      <td>3679</td>\n",
       "      <td>10</td>\n",
       "      <td>434.510</td>\n",
       "    </tr>\n",
       "    <tr>\n",
       "      <th>2</th>\n",
       "      <td>3679</td>\n",
       "      <td>35</td>\n",
       "      <td>27.215</td>\n",
       "    </tr>\n",
       "    <tr>\n",
       "      <th>3</th>\n",
       "      <td>3680</td>\n",
       "      <td>35</td>\n",
       "      <td>715.850</td>\n",
       "    </tr>\n",
       "    <tr>\n",
       "      <th>4</th>\n",
       "      <td>3681</td>\n",
       "      <td>6</td>\n",
       "      <td>293.000</td>\n",
       "    </tr>\n",
       "  </tbody>\n",
       "</table>\n",
       "</div>"
      ],
      "text/plain": [
       "   StockCode  Country  UnitPrice\n",
       "0       3678       35    464.715\n",
       "1       3679       10    434.510\n",
       "2       3679       35     27.215\n",
       "3       3680       35    715.850\n",
       "4       3681        6    293.000"
      ]
     },
     "execution_count": 27,
     "metadata": {},
     "output_type": "execute_result"
    }
   ],
   "source": [
    "xGroupBy = x.groupby([\"StockCode\",\"Country\"]).agg({'UnitPrice':np.median}).reset_index()\n",
    "xGroupBy.head()"
   ]
  },
  {
   "cell_type": "code",
   "execution_count": 28,
   "metadata": {},
   "outputs": [],
   "source": [
    "#updating Train_df outliers with median data \n",
    "#train_df = train_df.join(xGroupBy, on=[\"StockCode\",\"Country\"], how='left',rsuffix='_temp')\n",
    "train_df = pd.merge(train_df, xGroupBy, on=[\"StockCode\",\"Country\"], how='left')\n"
   ]
  },
  {
   "cell_type": "code",
   "execution_count": 29,
   "metadata": {},
   "outputs": [
    {
     "data": {
      "text/html": [
       "<div>\n",
       "<style scoped>\n",
       "    .dataframe tbody tr th:only-of-type {\n",
       "        vertical-align: middle;\n",
       "    }\n",
       "\n",
       "    .dataframe tbody tr th {\n",
       "        vertical-align: top;\n",
       "    }\n",
       "\n",
       "    .dataframe thead th {\n",
       "        text-align: right;\n",
       "    }\n",
       "</style>\n",
       "<table border=\"1\" class=\"dataframe\">\n",
       "  <thead>\n",
       "    <tr style=\"text-align: right;\">\n",
       "      <th></th>\n",
       "      <th>InvoiceNo</th>\n",
       "      <th>StockCode</th>\n",
       "      <th>Description</th>\n",
       "      <th>Quantity</th>\n",
       "      <th>InvoiceDate</th>\n",
       "      <th>UnitPrice_x</th>\n",
       "      <th>CustomerID</th>\n",
       "      <th>Country</th>\n",
       "      <th>Year</th>\n",
       "      <th>Month</th>\n",
       "      <th>YearMonth</th>\n",
       "      <th>UnitPrice_y</th>\n",
       "    </tr>\n",
       "  </thead>\n",
       "  <tbody>\n",
       "    <tr>\n",
       "      <th>0</th>\n",
       "      <td>6141</td>\n",
       "      <td>1583</td>\n",
       "      <td>144</td>\n",
       "      <td>3</td>\n",
       "      <td>2011-05-06 16:54:00</td>\n",
       "      <td>3.75</td>\n",
       "      <td>14056.0</td>\n",
       "      <td>35</td>\n",
       "      <td>2011</td>\n",
       "      <td>5</td>\n",
       "      <td>201105</td>\n",
       "      <td>NaN</td>\n",
       "    </tr>\n",
       "    <tr>\n",
       "      <th>1</th>\n",
       "      <td>6349</td>\n",
       "      <td>1300</td>\n",
       "      <td>3682</td>\n",
       "      <td>6</td>\n",
       "      <td>2011-05-11 07:35:00</td>\n",
       "      <td>1.95</td>\n",
       "      <td>13098.0</td>\n",
       "      <td>35</td>\n",
       "      <td>2011</td>\n",
       "      <td>5</td>\n",
       "      <td>201105</td>\n",
       "      <td>NaN</td>\n",
       "    </tr>\n",
       "    <tr>\n",
       "      <th>2</th>\n",
       "      <td>16783</td>\n",
       "      <td>2178</td>\n",
       "      <td>1939</td>\n",
       "      <td>4</td>\n",
       "      <td>2011-11-20 13:20:00</td>\n",
       "      <td>5.95</td>\n",
       "      <td>15044.0</td>\n",
       "      <td>35</td>\n",
       "      <td>2011</td>\n",
       "      <td>11</td>\n",
       "      <td>201111</td>\n",
       "      <td>NaN</td>\n",
       "    </tr>\n",
       "    <tr>\n",
       "      <th>3</th>\n",
       "      <td>16971</td>\n",
       "      <td>2115</td>\n",
       "      <td>2983</td>\n",
       "      <td>1</td>\n",
       "      <td>2011-11-22 12:07:00</td>\n",
       "      <td>0.83</td>\n",
       "      <td>15525.0</td>\n",
       "      <td>35</td>\n",
       "      <td>2011</td>\n",
       "      <td>11</td>\n",
       "      <td>201111</td>\n",
       "      <td>NaN</td>\n",
       "    </tr>\n",
       "    <tr>\n",
       "      <th>4</th>\n",
       "      <td>6080</td>\n",
       "      <td>1210</td>\n",
       "      <td>2886</td>\n",
       "      <td>12</td>\n",
       "      <td>2011-05-06 09:00:00</td>\n",
       "      <td>1.65</td>\n",
       "      <td>13952.0</td>\n",
       "      <td>35</td>\n",
       "      <td>2011</td>\n",
       "      <td>5</td>\n",
       "      <td>201105</td>\n",
       "      <td>NaN</td>\n",
       "    </tr>\n",
       "  </tbody>\n",
       "</table>\n",
       "</div>"
      ],
      "text/plain": [
       "   InvoiceNo  StockCode  Description  Quantity         InvoiceDate  \\\n",
       "0       6141       1583          144         3 2011-05-06 16:54:00   \n",
       "1       6349       1300         3682         6 2011-05-11 07:35:00   \n",
       "2      16783       2178         1939         4 2011-11-20 13:20:00   \n",
       "3      16971       2115         2983         1 2011-11-22 12:07:00   \n",
       "4       6080       1210         2886        12 2011-05-06 09:00:00   \n",
       "\n",
       "   UnitPrice_x  CustomerID  Country  Year  Month  YearMonth  UnitPrice_y  \n",
       "0         3.75     14056.0       35  2011      5     201105          NaN  \n",
       "1         1.95     13098.0       35  2011      5     201105          NaN  \n",
       "2         5.95     15044.0       35  2011     11     201111          NaN  \n",
       "3         0.83     15525.0       35  2011     11     201111          NaN  \n",
       "4         1.65     13952.0       35  2011      5     201105          NaN  "
      ]
     },
     "execution_count": 29,
     "metadata": {},
     "output_type": "execute_result"
    }
   ],
   "source": [
    "train_df.head()"
   ]
  },
  {
   "cell_type": "code",
   "execution_count": 30,
   "metadata": {},
   "outputs": [],
   "source": [
    "def myfunc(x,y):\n",
    "    if x >= 1000:\n",
    "        return y\n",
    "    else:\n",
    "        return x"
   ]
  },
  {
   "cell_type": "code",
   "execution_count": 31,
   "metadata": {},
   "outputs": [],
   "source": [
    "train_df['UnitPrice'] = train_df.apply(lambda x: myfunc(x.UnitPrice_x, x.UnitPrice_y), axis=1)\n"
   ]
  },
  {
   "cell_type": "code",
   "execution_count": 32,
   "metadata": {},
   "outputs": [
    {
     "data": {
      "text/html": [
       "<div>\n",
       "<style scoped>\n",
       "    .dataframe tbody tr th:only-of-type {\n",
       "        vertical-align: middle;\n",
       "    }\n",
       "\n",
       "    .dataframe tbody tr th {\n",
       "        vertical-align: top;\n",
       "    }\n",
       "\n",
       "    .dataframe thead th {\n",
       "        text-align: right;\n",
       "    }\n",
       "</style>\n",
       "<table border=\"1\" class=\"dataframe\">\n",
       "  <thead>\n",
       "    <tr style=\"text-align: right;\">\n",
       "      <th></th>\n",
       "      <th>InvoiceNo</th>\n",
       "      <th>StockCode</th>\n",
       "      <th>Description</th>\n",
       "      <th>Quantity</th>\n",
       "      <th>InvoiceDate</th>\n",
       "      <th>UnitPrice_x</th>\n",
       "      <th>CustomerID</th>\n",
       "      <th>Country</th>\n",
       "      <th>Year</th>\n",
       "      <th>Month</th>\n",
       "      <th>YearMonth</th>\n",
       "      <th>UnitPrice_y</th>\n",
       "      <th>UnitPrice</th>\n",
       "    </tr>\n",
       "  </thead>\n",
       "  <tbody>\n",
       "    <tr>\n",
       "      <th>8863</th>\n",
       "      <td>16242</td>\n",
       "      <td>3680</td>\n",
       "      <td>1043</td>\n",
       "      <td>1</td>\n",
       "      <td>2011-11-14 15:27:00</td>\n",
       "      <td>1500.36</td>\n",
       "      <td>14096.0</td>\n",
       "      <td>35</td>\n",
       "      <td>2011</td>\n",
       "      <td>11</td>\n",
       "      <td>201111</td>\n",
       "      <td>715.850</td>\n",
       "      <td>715.850</td>\n",
       "    </tr>\n",
       "    <tr>\n",
       "      <th>11961</th>\n",
       "      <td>14292</td>\n",
       "      <td>3681</td>\n",
       "      <td>2140</td>\n",
       "      <td>1</td>\n",
       "      <td>2011-10-19 11:18:00</td>\n",
       "      <td>2118.74</td>\n",
       "      <td>12744.0</td>\n",
       "      <td>29</td>\n",
       "      <td>2011</td>\n",
       "      <td>10</td>\n",
       "      <td>201110</td>\n",
       "      <td>1685.845</td>\n",
       "      <td>1685.845</td>\n",
       "    </tr>\n",
       "    <tr>\n",
       "      <th>51127</th>\n",
       "      <td>14824</td>\n",
       "      <td>3681</td>\n",
       "      <td>2140</td>\n",
       "      <td>1</td>\n",
       "      <td>2011-10-27 14:13:00</td>\n",
       "      <td>4161.06</td>\n",
       "      <td>12536.0</td>\n",
       "      <td>13</td>\n",
       "      <td>2011</td>\n",
       "      <td>10</td>\n",
       "      <td>201110</td>\n",
       "      <td>575.650</td>\n",
       "      <td>575.650</td>\n",
       "    </tr>\n",
       "    <tr>\n",
       "      <th>52322</th>\n",
       "      <td>17128</td>\n",
       "      <td>3680</td>\n",
       "      <td>1043</td>\n",
       "      <td>1</td>\n",
       "      <td>2011-11-23 13:39:00</td>\n",
       "      <td>1270.06</td>\n",
       "      <td>14096.0</td>\n",
       "      <td>35</td>\n",
       "      <td>2011</td>\n",
       "      <td>11</td>\n",
       "      <td>201111</td>\n",
       "      <td>715.850</td>\n",
       "      <td>715.850</td>\n",
       "    </tr>\n",
       "    <tr>\n",
       "      <th>58879</th>\n",
       "      <td>4823</td>\n",
       "      <td>3681</td>\n",
       "      <td>2140</td>\n",
       "      <td>1</td>\n",
       "      <td>2011-04-04 13:03:00</td>\n",
       "      <td>2382.92</td>\n",
       "      <td>12744.0</td>\n",
       "      <td>29</td>\n",
       "      <td>2011</td>\n",
       "      <td>4</td>\n",
       "      <td>201104</td>\n",
       "      <td>1685.845</td>\n",
       "      <td>1685.845</td>\n",
       "    </tr>\n",
       "    <tr>\n",
       "      <th>60351</th>\n",
       "      <td>3816</td>\n",
       "      <td>3681</td>\n",
       "      <td>2140</td>\n",
       "      <td>1</td>\n",
       "      <td>2011-03-11 10:22:00</td>\n",
       "      <td>1687.17</td>\n",
       "      <td>14911.0</td>\n",
       "      <td>10</td>\n",
       "      <td>2011</td>\n",
       "      <td>3</td>\n",
       "      <td>201103</td>\n",
       "      <td>1687.170</td>\n",
       "      <td>1687.170</td>\n",
       "    </tr>\n",
       "    <tr>\n",
       "      <th>65239</th>\n",
       "      <td>19659</td>\n",
       "      <td>3679</td>\n",
       "      <td>1066</td>\n",
       "      <td>-1</td>\n",
       "      <td>2011-04-08 14:17:00</td>\n",
       "      <td>1867.86</td>\n",
       "      <td>17940.0</td>\n",
       "      <td>35</td>\n",
       "      <td>2011</td>\n",
       "      <td>4</td>\n",
       "      <td>201104</td>\n",
       "      <td>27.215</td>\n",
       "      <td>27.215</td>\n",
       "    </tr>\n",
       "    <tr>\n",
       "      <th>71290</th>\n",
       "      <td>3815</td>\n",
       "      <td>3681</td>\n",
       "      <td>2140</td>\n",
       "      <td>1</td>\n",
       "      <td>2011-03-11 10:19:00</td>\n",
       "      <td>1687.17</td>\n",
       "      <td>14911.0</td>\n",
       "      <td>10</td>\n",
       "      <td>2011</td>\n",
       "      <td>3</td>\n",
       "      <td>201103</td>\n",
       "      <td>1687.170</td>\n",
       "      <td>1687.170</td>\n",
       "    </tr>\n",
       "    <tr>\n",
       "      <th>103356</th>\n",
       "      <td>19618</td>\n",
       "      <td>3681</td>\n",
       "      <td>2140</td>\n",
       "      <td>-1</td>\n",
       "      <td>2011-04-04 13:08:00</td>\n",
       "      <td>2382.92</td>\n",
       "      <td>12744.0</td>\n",
       "      <td>29</td>\n",
       "      <td>2011</td>\n",
       "      <td>4</td>\n",
       "      <td>201104</td>\n",
       "      <td>1685.845</td>\n",
       "      <td>1685.845</td>\n",
       "    </tr>\n",
       "    <tr>\n",
       "      <th>110272</th>\n",
       "      <td>19618</td>\n",
       "      <td>3681</td>\n",
       "      <td>2140</td>\n",
       "      <td>-1</td>\n",
       "      <td>2011-04-04 13:08:00</td>\n",
       "      <td>1252.95</td>\n",
       "      <td>12744.0</td>\n",
       "      <td>29</td>\n",
       "      <td>2011</td>\n",
       "      <td>4</td>\n",
       "      <td>201104</td>\n",
       "      <td>1685.845</td>\n",
       "      <td>1685.845</td>\n",
       "    </tr>\n",
       "  </tbody>\n",
       "</table>\n",
       "</div>"
      ],
      "text/plain": [
       "        InvoiceNo  StockCode  Description  Quantity         InvoiceDate  \\\n",
       "8863        16242       3680         1043         1 2011-11-14 15:27:00   \n",
       "11961       14292       3681         2140         1 2011-10-19 11:18:00   \n",
       "51127       14824       3681         2140         1 2011-10-27 14:13:00   \n",
       "52322       17128       3680         1043         1 2011-11-23 13:39:00   \n",
       "58879        4823       3681         2140         1 2011-04-04 13:03:00   \n",
       "60351        3816       3681         2140         1 2011-03-11 10:22:00   \n",
       "65239       19659       3679         1066        -1 2011-04-08 14:17:00   \n",
       "71290        3815       3681         2140         1 2011-03-11 10:19:00   \n",
       "103356      19618       3681         2140        -1 2011-04-04 13:08:00   \n",
       "110272      19618       3681         2140        -1 2011-04-04 13:08:00   \n",
       "\n",
       "        UnitPrice_x  CustomerID  Country  Year  Month  YearMonth  UnitPrice_y  \\\n",
       "8863        1500.36     14096.0       35  2011     11     201111      715.850   \n",
       "11961       2118.74     12744.0       29  2011     10     201110     1685.845   \n",
       "51127       4161.06     12536.0       13  2011     10     201110      575.650   \n",
       "52322       1270.06     14096.0       35  2011     11     201111      715.850   \n",
       "58879       2382.92     12744.0       29  2011      4     201104     1685.845   \n",
       "60351       1687.17     14911.0       10  2011      3     201103     1687.170   \n",
       "65239       1867.86     17940.0       35  2011      4     201104       27.215   \n",
       "71290       1687.17     14911.0       10  2011      3     201103     1687.170   \n",
       "103356      2382.92     12744.0       29  2011      4     201104     1685.845   \n",
       "110272      1252.95     12744.0       29  2011      4     201104     1685.845   \n",
       "\n",
       "        UnitPrice  \n",
       "8863      715.850  \n",
       "11961    1685.845  \n",
       "51127     575.650  \n",
       "52322     715.850  \n",
       "58879    1685.845  \n",
       "60351    1687.170  \n",
       "65239      27.215  \n",
       "71290    1687.170  \n",
       "103356   1685.845  \n",
       "110272   1685.845  "
      ]
     },
     "execution_count": 32,
     "metadata": {},
     "output_type": "execute_result"
    }
   ],
   "source": [
    "train_df.loc[train_df.UnitPrice_x>=1000].head(10)"
   ]
  },
  {
   "cell_type": "code",
   "execution_count": 33,
   "metadata": {},
   "outputs": [
    {
     "data": {
      "text/html": [
       "<div>\n",
       "<style scoped>\n",
       "    .dataframe tbody tr th:only-of-type {\n",
       "        vertical-align: middle;\n",
       "    }\n",
       "\n",
       "    .dataframe tbody tr th {\n",
       "        vertical-align: top;\n",
       "    }\n",
       "\n",
       "    .dataframe thead th {\n",
       "        text-align: right;\n",
       "    }\n",
       "</style>\n",
       "<table border=\"1\" class=\"dataframe\">\n",
       "  <thead>\n",
       "    <tr style=\"text-align: right;\">\n",
       "      <th></th>\n",
       "      <th>InvoiceNo</th>\n",
       "      <th>StockCode</th>\n",
       "      <th>Description</th>\n",
       "      <th>Quantity</th>\n",
       "      <th>InvoiceDate</th>\n",
       "      <th>UnitPrice_x</th>\n",
       "      <th>CustomerID</th>\n",
       "      <th>Country</th>\n",
       "      <th>Year</th>\n",
       "      <th>Month</th>\n",
       "      <th>YearMonth</th>\n",
       "      <th>UnitPrice_y</th>\n",
       "      <th>UnitPrice</th>\n",
       "    </tr>\n",
       "  </thead>\n",
       "  <tbody>\n",
       "    <tr>\n",
       "      <th>20</th>\n",
       "      <td>20652</td>\n",
       "      <td>3131</td>\n",
       "      <td>1576</td>\n",
       "      <td>-36</td>\n",
       "      <td>2011-07-26 10:15:00</td>\n",
       "      <td>1.06</td>\n",
       "      <td>12431.0</td>\n",
       "      <td>0</td>\n",
       "      <td>2011</td>\n",
       "      <td>7</td>\n",
       "      <td>201107</td>\n",
       "      <td>NaN</td>\n",
       "      <td>1.06</td>\n",
       "    </tr>\n",
       "    <tr>\n",
       "      <th>152</th>\n",
       "      <td>22083</td>\n",
       "      <td>2224</td>\n",
       "      <td>11</td>\n",
       "      <td>-1</td>\n",
       "      <td>2011-12-01 10:41:00</td>\n",
       "      <td>4.95</td>\n",
       "      <td>15993.0</td>\n",
       "      <td>35</td>\n",
       "      <td>2011</td>\n",
       "      <td>12</td>\n",
       "      <td>201112</td>\n",
       "      <td>NaN</td>\n",
       "      <td>4.95</td>\n",
       "    </tr>\n",
       "    <tr>\n",
       "      <th>157</th>\n",
       "      <td>19796</td>\n",
       "      <td>1521</td>\n",
       "      <td>2679</td>\n",
       "      <td>-6</td>\n",
       "      <td>2011-04-26 11:19:00</td>\n",
       "      <td>2.95</td>\n",
       "      <td>12705.0</td>\n",
       "      <td>14</td>\n",
       "      <td>2011</td>\n",
       "      <td>4</td>\n",
       "      <td>201104</td>\n",
       "      <td>NaN</td>\n",
       "      <td>2.95</td>\n",
       "    </tr>\n",
       "    <tr>\n",
       "      <th>186</th>\n",
       "      <td>21750</td>\n",
       "      <td>2166</td>\n",
       "      <td>1760</td>\n",
       "      <td>-100</td>\n",
       "      <td>2011-11-09 11:41:00</td>\n",
       "      <td>1.79</td>\n",
       "      <td>17511.0</td>\n",
       "      <td>35</td>\n",
       "      <td>2011</td>\n",
       "      <td>11</td>\n",
       "      <td>201111</td>\n",
       "      <td>NaN</td>\n",
       "      <td>1.79</td>\n",
       "    </tr>\n",
       "    <tr>\n",
       "      <th>196</th>\n",
       "      <td>21369</td>\n",
       "      <td>1014</td>\n",
       "      <td>2934</td>\n",
       "      <td>-17</td>\n",
       "      <td>2011-10-06 20:08:00</td>\n",
       "      <td>4.25</td>\n",
       "      <td>16839.0</td>\n",
       "      <td>35</td>\n",
       "      <td>2011</td>\n",
       "      <td>10</td>\n",
       "      <td>201110</td>\n",
       "      <td>NaN</td>\n",
       "      <td>4.25</td>\n",
       "    </tr>\n",
       "    <tr>\n",
       "      <th>...</th>\n",
       "      <td>...</td>\n",
       "      <td>...</td>\n",
       "      <td>...</td>\n",
       "      <td>...</td>\n",
       "      <td>...</td>\n",
       "      <td>...</td>\n",
       "      <td>...</td>\n",
       "      <td>...</td>\n",
       "      <td>...</td>\n",
       "      <td>...</td>\n",
       "      <td>...</td>\n",
       "      <td>...</td>\n",
       "      <td>...</td>\n",
       "    </tr>\n",
       "    <tr>\n",
       "      <th>284550</th>\n",
       "      <td>21879</td>\n",
       "      <td>2145</td>\n",
       "      <td>3746</td>\n",
       "      <td>-1</td>\n",
       "      <td>2011-11-18 09:44:00</td>\n",
       "      <td>2.10</td>\n",
       "      <td>17034.0</td>\n",
       "      <td>35</td>\n",
       "      <td>2011</td>\n",
       "      <td>11</td>\n",
       "      <td>201111</td>\n",
       "      <td>NaN</td>\n",
       "      <td>2.10</td>\n",
       "    </tr>\n",
       "    <tr>\n",
       "      <th>284650</th>\n",
       "      <td>21519</td>\n",
       "      <td>2294</td>\n",
       "      <td>1563</td>\n",
       "      <td>-1</td>\n",
       "      <td>2011-10-20 19:15:00</td>\n",
       "      <td>1.25</td>\n",
       "      <td>17169.0</td>\n",
       "      <td>35</td>\n",
       "      <td>2011</td>\n",
       "      <td>10</td>\n",
       "      <td>201110</td>\n",
       "      <td>NaN</td>\n",
       "      <td>1.25</td>\n",
       "    </tr>\n",
       "    <tr>\n",
       "      <th>284727</th>\n",
       "      <td>22148</td>\n",
       "      <td>2334</td>\n",
       "      <td>3664</td>\n",
       "      <td>-6</td>\n",
       "      <td>2011-12-06 14:57:00</td>\n",
       "      <td>3.75</td>\n",
       "      <td>15622.0</td>\n",
       "      <td>35</td>\n",
       "      <td>2011</td>\n",
       "      <td>12</td>\n",
       "      <td>201112</td>\n",
       "      <td>NaN</td>\n",
       "      <td>3.75</td>\n",
       "    </tr>\n",
       "    <tr>\n",
       "      <th>284740</th>\n",
       "      <td>20867</td>\n",
       "      <td>2658</td>\n",
       "      <td>826</td>\n",
       "      <td>-1</td>\n",
       "      <td>2011-08-22 15:00:00</td>\n",
       "      <td>3.25</td>\n",
       "      <td>16184.0</td>\n",
       "      <td>35</td>\n",
       "      <td>2011</td>\n",
       "      <td>8</td>\n",
       "      <td>201108</td>\n",
       "      <td>NaN</td>\n",
       "      <td>3.25</td>\n",
       "    </tr>\n",
       "    <tr>\n",
       "      <th>284762</th>\n",
       "      <td>21799</td>\n",
       "      <td>860</td>\n",
       "      <td>3477</td>\n",
       "      <td>-1</td>\n",
       "      <td>2011-11-11 13:30:00</td>\n",
       "      <td>1.25</td>\n",
       "      <td>13588.0</td>\n",
       "      <td>35</td>\n",
       "      <td>2011</td>\n",
       "      <td>11</td>\n",
       "      <td>201111</td>\n",
       "      <td>NaN</td>\n",
       "      <td>1.25</td>\n",
       "    </tr>\n",
       "  </tbody>\n",
       "</table>\n",
       "<p>6167 rows × 13 columns</p>\n",
       "</div>"
      ],
      "text/plain": [
       "        InvoiceNo  StockCode  Description  Quantity         InvoiceDate  \\\n",
       "20          20652       3131         1576       -36 2011-07-26 10:15:00   \n",
       "152         22083       2224           11        -1 2011-12-01 10:41:00   \n",
       "157         19796       1521         2679        -6 2011-04-26 11:19:00   \n",
       "186         21750       2166         1760      -100 2011-11-09 11:41:00   \n",
       "196         21369       1014         2934       -17 2011-10-06 20:08:00   \n",
       "...           ...        ...          ...       ...                 ...   \n",
       "284550      21879       2145         3746        -1 2011-11-18 09:44:00   \n",
       "284650      21519       2294         1563        -1 2011-10-20 19:15:00   \n",
       "284727      22148       2334         3664        -6 2011-12-06 14:57:00   \n",
       "284740      20867       2658          826        -1 2011-08-22 15:00:00   \n",
       "284762      21799        860         3477        -1 2011-11-11 13:30:00   \n",
       "\n",
       "        UnitPrice_x  CustomerID  Country  Year  Month  YearMonth  UnitPrice_y  \\\n",
       "20             1.06     12431.0        0  2011      7     201107          NaN   \n",
       "152            4.95     15993.0       35  2011     12     201112          NaN   \n",
       "157            2.95     12705.0       14  2011      4     201104          NaN   \n",
       "186            1.79     17511.0       35  2011     11     201111          NaN   \n",
       "196            4.25     16839.0       35  2011     10     201110          NaN   \n",
       "...             ...         ...      ...   ...    ...        ...          ...   \n",
       "284550         2.10     17034.0       35  2011     11     201111          NaN   \n",
       "284650         1.25     17169.0       35  2011     10     201110          NaN   \n",
       "284727         3.75     15622.0       35  2011     12     201112          NaN   \n",
       "284740         3.25     16184.0       35  2011      8     201108          NaN   \n",
       "284762         1.25     13588.0       35  2011     11     201111          NaN   \n",
       "\n",
       "        UnitPrice  \n",
       "20           1.06  \n",
       "152          4.95  \n",
       "157          2.95  \n",
       "186          1.79  \n",
       "196          4.25  \n",
       "...           ...  \n",
       "284550       2.10  \n",
       "284650       1.25  \n",
       "284727       3.75  \n",
       "284740       3.25  \n",
       "284762       1.25  \n",
       "\n",
       "[6167 rows x 13 columns]"
      ]
     },
     "execution_count": 33,
     "metadata": {},
     "output_type": "execute_result"
    }
   ],
   "source": [
    "train_df[train_df['Quantity']<0]"
   ]
  },
  {
   "cell_type": "code",
   "execution_count": 34,
   "metadata": {},
   "outputs": [
    {
     "data": {
      "text/html": [
       "<div>\n",
       "<style scoped>\n",
       "    .dataframe tbody tr th:only-of-type {\n",
       "        vertical-align: middle;\n",
       "    }\n",
       "\n",
       "    .dataframe tbody tr th {\n",
       "        vertical-align: top;\n",
       "    }\n",
       "\n",
       "    .dataframe thead th {\n",
       "        text-align: right;\n",
       "    }\n",
       "</style>\n",
       "<table border=\"1\" class=\"dataframe\">\n",
       "  <thead>\n",
       "    <tr style=\"text-align: right;\">\n",
       "      <th></th>\n",
       "      <th>InvoiceNo</th>\n",
       "      <th>StockCode</th>\n",
       "      <th>Description</th>\n",
       "      <th>Quantity</th>\n",
       "      <th>InvoiceDate</th>\n",
       "      <th>CustomerID</th>\n",
       "      <th>Country</th>\n",
       "    </tr>\n",
       "  </thead>\n",
       "  <tbody>\n",
       "    <tr>\n",
       "      <th>36</th>\n",
       "      <td>20489</td>\n",
       "      <td>1102</td>\n",
       "      <td>3768</td>\n",
       "      <td>-12</td>\n",
       "      <td>2011-07-07 17:22:00</td>\n",
       "      <td>18072.0</td>\n",
       "      <td>35</td>\n",
       "    </tr>\n",
       "    <tr>\n",
       "      <th>104</th>\n",
       "      <td>19675</td>\n",
       "      <td>3207</td>\n",
       "      <td>1325</td>\n",
       "      <td>-1</td>\n",
       "      <td>2011-04-11 13:43:00</td>\n",
       "      <td>13668.0</td>\n",
       "      <td>35</td>\n",
       "    </tr>\n",
       "    <tr>\n",
       "      <th>125</th>\n",
       "      <td>20177</td>\n",
       "      <td>515</td>\n",
       "      <td>1940</td>\n",
       "      <td>-2</td>\n",
       "      <td>2011-06-05 12:01:00</td>\n",
       "      <td>15722.0</td>\n",
       "      <td>35</td>\n",
       "    </tr>\n",
       "    <tr>\n",
       "      <th>175</th>\n",
       "      <td>19710</td>\n",
       "      <td>1739</td>\n",
       "      <td>3109</td>\n",
       "      <td>-1</td>\n",
       "      <td>2011-04-14 10:49:00</td>\n",
       "      <td>12982.0</td>\n",
       "      <td>35</td>\n",
       "    </tr>\n",
       "    <tr>\n",
       "      <th>238</th>\n",
       "      <td>21020</td>\n",
       "      <td>1650</td>\n",
       "      <td>197</td>\n",
       "      <td>-1</td>\n",
       "      <td>2011-09-09 12:52:00</td>\n",
       "      <td>16173.0</td>\n",
       "      <td>35</td>\n",
       "    </tr>\n",
       "    <tr>\n",
       "      <th>...</th>\n",
       "      <td>...</td>\n",
       "      <td>...</td>\n",
       "      <td>...</td>\n",
       "      <td>...</td>\n",
       "      <td>...</td>\n",
       "      <td>...</td>\n",
       "      <td>...</td>\n",
       "    </tr>\n",
       "    <tr>\n",
       "      <th>121786</th>\n",
       "      <td>20390</td>\n",
       "      <td>1621</td>\n",
       "      <td>1177</td>\n",
       "      <td>-2</td>\n",
       "      <td>2011-06-26 15:47:00</td>\n",
       "      <td>17731.0</td>\n",
       "      <td>35</td>\n",
       "    </tr>\n",
       "    <tr>\n",
       "      <th>121790</th>\n",
       "      <td>21022</td>\n",
       "      <td>2079</td>\n",
       "      <td>3025</td>\n",
       "      <td>-1</td>\n",
       "      <td>2011-09-09 12:55:00</td>\n",
       "      <td>14210.0</td>\n",
       "      <td>35</td>\n",
       "    </tr>\n",
       "    <tr>\n",
       "      <th>121795</th>\n",
       "      <td>20197</td>\n",
       "      <td>1923</td>\n",
       "      <td>2669</td>\n",
       "      <td>-5</td>\n",
       "      <td>2011-06-07 14:29:00</td>\n",
       "      <td>15189.0</td>\n",
       "      <td>35</td>\n",
       "    </tr>\n",
       "    <tr>\n",
       "      <th>121912</th>\n",
       "      <td>19643</td>\n",
       "      <td>1805</td>\n",
       "      <td>1738</td>\n",
       "      <td>-1</td>\n",
       "      <td>2011-04-06 17:16:00</td>\n",
       "      <td>17438.0</td>\n",
       "      <td>35</td>\n",
       "    </tr>\n",
       "    <tr>\n",
       "      <th>121998</th>\n",
       "      <td>19694</td>\n",
       "      <td>1039</td>\n",
       "      <td>271</td>\n",
       "      <td>-1</td>\n",
       "      <td>2011-04-13 09:02:00</td>\n",
       "      <td>15737.0</td>\n",
       "      <td>35</td>\n",
       "    </tr>\n",
       "  </tbody>\n",
       "</table>\n",
       "<p>2738 rows × 7 columns</p>\n",
       "</div>"
      ],
      "text/plain": [
       "        InvoiceNo  StockCode  Description  Quantity         InvoiceDate  \\\n",
       "36          20489       1102         3768       -12 2011-07-07 17:22:00   \n",
       "104         19675       3207         1325        -1 2011-04-11 13:43:00   \n",
       "125         20177        515         1940        -2 2011-06-05 12:01:00   \n",
       "175         19710       1739         3109        -1 2011-04-14 10:49:00   \n",
       "238         21020       1650          197        -1 2011-09-09 12:52:00   \n",
       "...           ...        ...          ...       ...                 ...   \n",
       "121786      20390       1621         1177        -2 2011-06-26 15:47:00   \n",
       "121790      21022       2079         3025        -1 2011-09-09 12:55:00   \n",
       "121795      20197       1923         2669        -5 2011-06-07 14:29:00   \n",
       "121912      19643       1805         1738        -1 2011-04-06 17:16:00   \n",
       "121998      19694       1039          271        -1 2011-04-13 09:02:00   \n",
       "\n",
       "        CustomerID  Country  \n",
       "36         18072.0       35  \n",
       "104        13668.0       35  \n",
       "125        15722.0       35  \n",
       "175        12982.0       35  \n",
       "238        16173.0       35  \n",
       "...            ...      ...  \n",
       "121786     17731.0       35  \n",
       "121790     14210.0       35  \n",
       "121795     15189.0       35  \n",
       "121912     17438.0       35  \n",
       "121998     15737.0       35  \n",
       "\n",
       "[2738 rows x 7 columns]"
      ]
     },
     "execution_count": 34,
     "metadata": {},
     "output_type": "execute_result"
    }
   ],
   "source": [
    "test_df[test_df['Quantity']<0]"
   ]
  },
  {
   "cell_type": "markdown",
   "metadata": {},
   "source": [
    "### we are observing rows with negative qty. Initial plan was to drop this from the train dataset. However, we are seeing same pattern of negative quantity in the test dataset as well. Hence, until we know a correct business decision around this, it is better we leave it in the dataset so that model will take into account the negative value. "
   ]
  },
  {
   "cell_type": "code",
   "execution_count": 35,
   "metadata": {},
   "outputs": [],
   "source": [
    "# since StockCode and Description are the same thing, we can remove Description from the DataSet\n",
    "#We dont need Invoice number, customer Number and invoice date. So we can remove all these columns from train dataset\n",
    "train_df = train_df.drop(columns=[\"Description\", \"UnitPrice_x\",\"UnitPrice_y\",\"CustomerID\", \"InvoiceNo\", \"InvoiceDate\",'Year','Month'], axis = 1)\n",
    "\n",
    "#test_df = test_df.drop(columns=[\"Description\"], axis = 1)"
   ]
  },
  {
   "cell_type": "code",
   "execution_count": 36,
   "metadata": {},
   "outputs": [
    {
     "data": {
      "text/html": [
       "<div>\n",
       "<style scoped>\n",
       "    .dataframe tbody tr th:only-of-type {\n",
       "        vertical-align: middle;\n",
       "    }\n",
       "\n",
       "    .dataframe tbody tr th {\n",
       "        vertical-align: top;\n",
       "    }\n",
       "\n",
       "    .dataframe thead th {\n",
       "        text-align: right;\n",
       "    }\n",
       "</style>\n",
       "<table border=\"1\" class=\"dataframe\">\n",
       "  <thead>\n",
       "    <tr style=\"text-align: right;\">\n",
       "      <th></th>\n",
       "      <th>StockCode</th>\n",
       "      <th>Quantity</th>\n",
       "      <th>Country</th>\n",
       "      <th>YearMonth</th>\n",
       "      <th>UnitPrice</th>\n",
       "    </tr>\n",
       "  </thead>\n",
       "  <tbody>\n",
       "    <tr>\n",
       "      <th>0</th>\n",
       "      <td>1583</td>\n",
       "      <td>3</td>\n",
       "      <td>35</td>\n",
       "      <td>201105</td>\n",
       "      <td>3.75</td>\n",
       "    </tr>\n",
       "    <tr>\n",
       "      <th>1</th>\n",
       "      <td>1300</td>\n",
       "      <td>6</td>\n",
       "      <td>35</td>\n",
       "      <td>201105</td>\n",
       "      <td>1.95</td>\n",
       "    </tr>\n",
       "    <tr>\n",
       "      <th>2</th>\n",
       "      <td>2178</td>\n",
       "      <td>4</td>\n",
       "      <td>35</td>\n",
       "      <td>201111</td>\n",
       "      <td>5.95</td>\n",
       "    </tr>\n",
       "    <tr>\n",
       "      <th>3</th>\n",
       "      <td>2115</td>\n",
       "      <td>1</td>\n",
       "      <td>35</td>\n",
       "      <td>201111</td>\n",
       "      <td>0.83</td>\n",
       "    </tr>\n",
       "    <tr>\n",
       "      <th>4</th>\n",
       "      <td>1210</td>\n",
       "      <td>12</td>\n",
       "      <td>35</td>\n",
       "      <td>201105</td>\n",
       "      <td>1.65</td>\n",
       "    </tr>\n",
       "  </tbody>\n",
       "</table>\n",
       "</div>"
      ],
      "text/plain": [
       "   StockCode  Quantity  Country  YearMonth  UnitPrice\n",
       "0       1583         3       35     201105       3.75\n",
       "1       1300         6       35     201105       1.95\n",
       "2       2178         4       35     201111       5.95\n",
       "3       2115         1       35     201111       0.83\n",
       "4       1210        12       35     201105       1.65"
      ]
     },
     "execution_count": 36,
     "metadata": {},
     "output_type": "execute_result"
    }
   ],
   "source": [
    "train_df.head()"
   ]
  },
  {
   "cell_type": "code",
   "execution_count": 37,
   "metadata": {},
   "outputs": [
    {
     "name": "stdout",
     "output_type": "stream",
     "text": [
      "<class 'pandas.core.frame.DataFrame'>\n",
      "Int64Index: 284780 entries, 0 to 284779\n",
      "Data columns (total 5 columns):\n",
      " #   Column     Non-Null Count   Dtype  \n",
      "---  ------     --------------   -----  \n",
      " 0   StockCode  284780 non-null  int64  \n",
      " 1   Quantity   284780 non-null  int64  \n",
      " 2   Country    284780 non-null  int64  \n",
      " 3   YearMonth  284780 non-null  int64  \n",
      " 4   UnitPrice  284780 non-null  float64\n",
      "dtypes: float64(1), int64(4)\n",
      "memory usage: 13.0 MB\n"
     ]
    }
   ],
   "source": [
    "train_df.info()"
   ]
  },
  {
   "cell_type": "code",
   "execution_count": 38,
   "metadata": {},
   "outputs": [
    {
     "data": {
      "image/png": "[encoded data removed]",
      "text/plain": [
       "<Figure size 432x288 with 1 Axes>"
      ]
     },
     "metadata": {
      "needs_background": "light"
     },
     "output_type": "display_data"
    }
   ],
   "source": [
    "plt.scatter(train_df.StockCode, train_df.UnitPrice)\n",
    "plt.show()"
   ]
  },
  {
   "cell_type": "code",
   "execution_count": 39,
   "metadata": {},
   "outputs": [
    {
     "data": {
      "text/html": [
       "<div>\n",
       "<style scoped>\n",
       "    .dataframe tbody tr th:only-of-type {\n",
       "        vertical-align: middle;\n",
       "    }\n",
       "\n",
       "    .dataframe tbody tr th {\n",
       "        vertical-align: top;\n",
       "    }\n",
       "\n",
       "    .dataframe thead th {\n",
       "        text-align: right;\n",
       "    }\n",
       "</style>\n",
       "<table border=\"1\" class=\"dataframe\">\n",
       "  <thead>\n",
       "    <tr style=\"text-align: right;\">\n",
       "      <th></th>\n",
       "      <th>StockCode</th>\n",
       "      <th>Quantity</th>\n",
       "      <th>Country</th>\n",
       "      <th>YearMonth</th>\n",
       "      <th>UnitPrice</th>\n",
       "    </tr>\n",
       "  </thead>\n",
       "  <tbody>\n",
       "    <tr>\n",
       "      <th>11961</th>\n",
       "      <td>3681</td>\n",
       "      <td>1</td>\n",
       "      <td>29</td>\n",
       "      <td>201110</td>\n",
       "      <td>1685.845</td>\n",
       "    </tr>\n",
       "    <tr>\n",
       "      <th>58879</th>\n",
       "      <td>3681</td>\n",
       "      <td>1</td>\n",
       "      <td>29</td>\n",
       "      <td>201104</td>\n",
       "      <td>1685.845</td>\n",
       "    </tr>\n",
       "    <tr>\n",
       "      <th>60351</th>\n",
       "      <td>3681</td>\n",
       "      <td>1</td>\n",
       "      <td>10</td>\n",
       "      <td>201103</td>\n",
       "      <td>1687.170</td>\n",
       "    </tr>\n",
       "    <tr>\n",
       "      <th>71290</th>\n",
       "      <td>3681</td>\n",
       "      <td>1</td>\n",
       "      <td>10</td>\n",
       "      <td>201103</td>\n",
       "      <td>1687.170</td>\n",
       "    </tr>\n",
       "    <tr>\n",
       "      <th>103356</th>\n",
       "      <td>3681</td>\n",
       "      <td>-1</td>\n",
       "      <td>29</td>\n",
       "      <td>201104</td>\n",
       "      <td>1685.845</td>\n",
       "    </tr>\n",
       "    <tr>\n",
       "      <th>110272</th>\n",
       "      <td>3681</td>\n",
       "      <td>-1</td>\n",
       "      <td>29</td>\n",
       "      <td>201104</td>\n",
       "      <td>1685.845</td>\n",
       "    </tr>\n",
       "    <tr>\n",
       "      <th>111657</th>\n",
       "      <td>3681</td>\n",
       "      <td>1</td>\n",
       "      <td>29</td>\n",
       "      <td>201104</td>\n",
       "      <td>1685.845</td>\n",
       "    </tr>\n",
       "    <tr>\n",
       "      <th>155565</th>\n",
       "      <td>3681</td>\n",
       "      <td>-1</td>\n",
       "      <td>29</td>\n",
       "      <td>201110</td>\n",
       "      <td>1685.845</td>\n",
       "    </tr>\n",
       "    <tr>\n",
       "      <th>207110</th>\n",
       "      <td>3681</td>\n",
       "      <td>-1</td>\n",
       "      <td>29</td>\n",
       "      <td>201110</td>\n",
       "      <td>1685.845</td>\n",
       "    </tr>\n",
       "  </tbody>\n",
       "</table>\n",
       "</div>"
      ],
      "text/plain": [
       "        StockCode  Quantity  Country  YearMonth  UnitPrice\n",
       "11961        3681         1       29     201110   1685.845\n",
       "58879        3681         1       29     201104   1685.845\n",
       "60351        3681         1       10     201103   1687.170\n",
       "71290        3681         1       10     201103   1687.170\n",
       "103356       3681        -1       29     201104   1685.845\n",
       "110272       3681        -1       29     201104   1685.845\n",
       "111657       3681         1       29     201104   1685.845\n",
       "155565       3681        -1       29     201110   1685.845\n",
       "207110       3681        -1       29     201110   1685.845"
      ]
     },
     "execution_count": 39,
     "metadata": {},
     "output_type": "execute_result"
    }
   ],
   "source": [
    "train_df.loc[(train_df['StockCode']> 2000) & (train_df['UnitPrice']>=1500)]"
   ]
  },
  {
   "cell_type": "code",
   "execution_count": 40,
   "metadata": {},
   "outputs": [],
   "source": [
    "monthMap = {1:'01',2:'02',3:'03',4:'04',5:'05',6:'06',7:'07',8:'08',9:'09',10:'10',11:'11',12:'12'}\n",
    "\n",
    "# Extracting Month and Year from Date columns\n",
    "test_df['Year'] = pd.DatetimeIndex(test_df['InvoiceDate']).year\n",
    "test_df['Month'] = pd.DatetimeIndex(test_df['InvoiceDate']).month\n",
    "test_df['YearMonth'] = test_df[\"Year\"].astype(str) + test_df[\"Month\"].map(monthMap)\n",
    "test_df['YearMonth'] = test_df['YearMonth'].apply(lambda x: int(x))"
   ]
  },
  {
   "cell_type": "code",
   "execution_count": 41,
   "metadata": {},
   "outputs": [
    {
     "data": {
      "text/html": [
       "<div>\n",
       "<style scoped>\n",
       "    .dataframe tbody tr th:only-of-type {\n",
       "        vertical-align: middle;\n",
       "    }\n",
       "\n",
       "    .dataframe tbody tr th {\n",
       "        vertical-align: top;\n",
       "    }\n",
       "\n",
       "    .dataframe thead th {\n",
       "        text-align: right;\n",
       "    }\n",
       "</style>\n",
       "<table border=\"1\" class=\"dataframe\">\n",
       "  <thead>\n",
       "    <tr style=\"text-align: right;\">\n",
       "      <th></th>\n",
       "      <th>InvoiceNo</th>\n",
       "      <th>StockCode</th>\n",
       "      <th>Description</th>\n",
       "      <th>Quantity</th>\n",
       "      <th>InvoiceDate</th>\n",
       "      <th>CustomerID</th>\n",
       "      <th>Country</th>\n",
       "      <th>Year</th>\n",
       "      <th>Month</th>\n",
       "      <th>YearMonth</th>\n",
       "    </tr>\n",
       "  </thead>\n",
       "  <tbody>\n",
       "    <tr>\n",
       "      <th>0</th>\n",
       "      <td>3139</td>\n",
       "      <td>1709</td>\n",
       "      <td>1079</td>\n",
       "      <td>3</td>\n",
       "      <td>2011-02-22 15:22:00</td>\n",
       "      <td>16161.0</td>\n",
       "      <td>35</td>\n",
       "      <td>2011</td>\n",
       "      <td>2</td>\n",
       "      <td>201102</td>\n",
       "    </tr>\n",
       "    <tr>\n",
       "      <th>1</th>\n",
       "      <td>617</td>\n",
       "      <td>510</td>\n",
       "      <td>3457</td>\n",
       "      <td>1</td>\n",
       "      <td>2010-12-08 12:46:00</td>\n",
       "      <td>17341.0</td>\n",
       "      <td>35</td>\n",
       "      <td>2010</td>\n",
       "      <td>12</td>\n",
       "      <td>201012</td>\n",
       "    </tr>\n",
       "    <tr>\n",
       "      <th>2</th>\n",
       "      <td>14653</td>\n",
       "      <td>604</td>\n",
       "      <td>694</td>\n",
       "      <td>36</td>\n",
       "      <td>2011-10-25 13:53:00</td>\n",
       "      <td>15158.0</td>\n",
       "      <td>35</td>\n",
       "      <td>2011</td>\n",
       "      <td>10</td>\n",
       "      <td>201110</td>\n",
       "    </tr>\n",
       "    <tr>\n",
       "      <th>3</th>\n",
       "      <td>8634</td>\n",
       "      <td>1478</td>\n",
       "      <td>3473</td>\n",
       "      <td>2</td>\n",
       "      <td>2011-06-27 12:38:00</td>\n",
       "      <td>16033.0</td>\n",
       "      <td>35</td>\n",
       "      <td>2011</td>\n",
       "      <td>6</td>\n",
       "      <td>201106</td>\n",
       "    </tr>\n",
       "    <tr>\n",
       "      <th>4</th>\n",
       "      <td>15546</td>\n",
       "      <td>3216</td>\n",
       "      <td>871</td>\n",
       "      <td>1</td>\n",
       "      <td>2011-11-06 16:14:00</td>\n",
       "      <td>15351.0</td>\n",
       "      <td>35</td>\n",
       "      <td>2011</td>\n",
       "      <td>11</td>\n",
       "      <td>201111</td>\n",
       "    </tr>\n",
       "  </tbody>\n",
       "</table>\n",
       "</div>"
      ],
      "text/plain": [
       "   InvoiceNo  StockCode  Description  Quantity         InvoiceDate  \\\n",
       "0       3139       1709         1079         3 2011-02-22 15:22:00   \n",
       "1        617        510         3457         1 2010-12-08 12:46:00   \n",
       "2      14653        604          694        36 2011-10-25 13:53:00   \n",
       "3       8634       1478         3473         2 2011-06-27 12:38:00   \n",
       "4      15546       3216          871         1 2011-11-06 16:14:00   \n",
       "\n",
       "   CustomerID  Country  Year  Month  YearMonth  \n",
       "0     16161.0       35  2011      2     201102  \n",
       "1     17341.0       35  2010     12     201012  \n",
       "2     15158.0       35  2011     10     201110  \n",
       "3     16033.0       35  2011      6     201106  \n",
       "4     15351.0       35  2011     11     201111  "
      ]
     },
     "execution_count": 41,
     "metadata": {},
     "output_type": "execute_result"
    }
   ],
   "source": [
    "test_df.head()"
   ]
  },
  {
   "cell_type": "code",
   "execution_count": 42,
   "metadata": {},
   "outputs": [
    {
     "data": {
      "image/png": "[encoded data removed]",
      "text/plain": [
       "<Figure size 1080x720 with 1 Axes>"
      ]
     },
     "metadata": {
      "needs_background": "light"
     },
     "output_type": "display_data"
    }
   ],
   "source": [
    "#Visualizing Counts based on year/Month\n",
    "ShowValueCounts(test_df, 'YearMonth')"
   ]
  },
  {
   "cell_type": "code",
   "execution_count": 43,
   "metadata": {},
   "outputs": [],
   "source": [
    "#removing unused columns from test df\n",
    "test_df = test_df.drop(columns=[\"Description\", \"CustomerID\", \"InvoiceNo\", \"InvoiceDate\",'Year','Month'], axis = 1)\n"
   ]
  },
  {
   "cell_type": "code",
   "execution_count": 44,
   "metadata": {},
   "outputs": [
    {
     "name": "stdout",
     "output_type": "stream",
     "text": [
      "<class 'pandas.core.frame.DataFrame'>\n",
      "Int64Index: 284780 entries, 0 to 284779\n",
      "Data columns (total 5 columns):\n",
      " #   Column     Non-Null Count   Dtype  \n",
      "---  ------     --------------   -----  \n",
      " 0   StockCode  284780 non-null  int64  \n",
      " 1   Quantity   284780 non-null  int64  \n",
      " 2   Country    284780 non-null  int64  \n",
      " 3   YearMonth  284780 non-null  int64  \n",
      " 4   UnitPrice  284780 non-null  float64\n",
      "dtypes: float64(1), int64(4)\n",
      "memory usage: 13.0 MB\n"
     ]
    }
   ],
   "source": [
    "train_df.info()"
   ]
  },
  {
   "cell_type": "code",
   "execution_count": 45,
   "metadata": {},
   "outputs": [
    {
     "name": "stdout",
     "output_type": "stream",
     "text": [
      "<class 'pandas.core.frame.DataFrame'>\n",
      "RangeIndex: 122049 entries, 0 to 122048\n",
      "Data columns (total 4 columns):\n",
      " #   Column     Non-Null Count   Dtype\n",
      "---  ------     --------------   -----\n",
      " 0   StockCode  122049 non-null  int64\n",
      " 1   Quantity   122049 non-null  int64\n",
      " 2   Country    122049 non-null  int64\n",
      " 3   YearMonth  122049 non-null  int64\n",
      "dtypes: int64(4)\n",
      "memory usage: 3.7 MB\n"
     ]
    }
   ],
   "source": [
    "test_df.info()"
   ]
  },
  {
   "cell_type": "markdown",
   "metadata": {},
   "source": [
    "\n",
    "\n",
    "## Model Building - Starting with Simple Model (linear Regression)\n",
    "\n",
    "#### Scaling all the Category variables\n",
    "##### LabelEncoder for YearMonth\n",
    "##### MinMaxScaler for StockCode and Country\n",
    "##### PowerTransformer for Quantity as it has negative values as well"
   ]
  },
  {
   "cell_type": "code",
   "execution_count": 46,
   "metadata": {},
   "outputs": [],
   "source": [
    "from sklearn.linear_model import LinearRegression, Ridge, Lasso\n",
    "from sklearn.ensemble import RandomForestRegressor, GradientBoostingRegressor\n",
    "from sklearn.neighbors import KNeighborsRegressor\n",
    "from sklearn.model_selection import train_test_split, KFold, cross_val_score\n",
    "from sklearn.preprocessing import MinMaxScaler\n",
    "from sklearn.preprocessing import LabelEncoder\n",
    "from sklearn.preprocessing import PowerTransformer\n",
    "from sklearn.metrics import mean_squared_error"
   ]
  },
  {
   "cell_type": "code",
   "execution_count": 47,
   "metadata": {},
   "outputs": [],
   "source": [
    "X = train_df.drop(columns=['UnitPrice'], axis=1)\n",
    "y = train_df['UnitPrice']\n",
    "\n",
    "labEncoder = LabelEncoder()\n",
    "X['YearMonth'] = labEncoder.fit_transform(X['YearMonth'])\n",
    "test_df['YearMonth'] = labEncoder.transform(test_df['YearMonth'])\n",
    "\n",
    "powerTransformer = PowerTransformer()\n",
    "qty = X['Quantity'].values.reshape(-1,1)\n",
    "qty1 = test_df[\"Quantity\"].values.reshape(-1,1)\n",
    "qty = powerTransformer.fit_transform(qty)\n",
    "qty1 = powerTransformer.transform(qty1)\n",
    "#Appending the transformed columns back to the data frame\n",
    "X['Quantity'] = pd.DataFrame(data=qty)\n",
    "test_df['Quantity'] = pd.DataFrame(data=qty1)\n",
    "\n",
    "minMax = MinMaxScaler()\n",
    "stockcode = X['StockCode'].values.reshape(-1,1)\n",
    "stockcode1 = test_df['StockCode'].values.reshape(-1,1)\n",
    "stockcode = minMax.fit_transform(stockcode)\n",
    "stockcode1 = minMax.transform(stockcode1)\n",
    "#Appending the transformed columns back to the data frame\n",
    "X['StockCode'] = pd.DataFrame(data=stockcode)\n",
    "test_df['StockCode'] = pd.DataFrame(data=stockcode1)\n",
    "\n",
    "countryMinMax = MinMaxScaler()\n",
    "cntry = X['Country'].values.reshape(-1,1)\n",
    "cntry1 = test_df['Country'].values.reshape(-1,1)\n",
    "cntry = minMax.fit_transform(cntry)\n",
    "cntry1 = minMax.transform(cntry1)\n",
    "#Appending the transformed columns back to the data frame\n",
    "X['Country'] = pd.DataFrame(data=cntry)\n",
    "test_df['Country'] = pd.DataFrame(data=cntry1)\n",
    "\n",
    "output_power_trans = PowerTransformer()\n",
    "y = y.values.reshape(-1,1)\n",
    "y = output_power_trans.fit_transform(y)"
   ]
  },
  {
   "cell_type": "code",
   "execution_count": 48,
   "metadata": {},
   "outputs": [
    {
     "data": {
      "text/html": [
       "<div>\n",
       "<style scoped>\n",
       "    .dataframe tbody tr th:only-of-type {\n",
       "        vertical-align: middle;\n",
       "    }\n",
       "\n",
       "    .dataframe tbody tr th {\n",
       "        vertical-align: top;\n",
       "    }\n",
       "\n",
       "    .dataframe thead th {\n",
       "        text-align: right;\n",
       "    }\n",
       "</style>\n",
       "<table border=\"1\" class=\"dataframe\">\n",
       "  <thead>\n",
       "    <tr style=\"text-align: right;\">\n",
       "      <th></th>\n",
       "      <th>StockCode</th>\n",
       "      <th>Quantity</th>\n",
       "      <th>Country</th>\n",
       "      <th>YearMonth</th>\n",
       "    </tr>\n",
       "  </thead>\n",
       "  <tbody>\n",
       "    <tr>\n",
       "      <th>0</th>\n",
       "      <td>0.429813</td>\n",
       "      <td>-0.031586</td>\n",
       "      <td>0.972222</td>\n",
       "      <td>5</td>\n",
       "    </tr>\n",
       "    <tr>\n",
       "      <th>1</th>\n",
       "      <td>0.352973</td>\n",
       "      <td>-0.021362</td>\n",
       "      <td>0.972222</td>\n",
       "      <td>5</td>\n",
       "    </tr>\n",
       "    <tr>\n",
       "      <th>2</th>\n",
       "      <td>0.591366</td>\n",
       "      <td>-0.028183</td>\n",
       "      <td>0.972222</td>\n",
       "      <td>11</td>\n",
       "    </tr>\n",
       "    <tr>\n",
       "      <th>3</th>\n",
       "      <td>0.574260</td>\n",
       "      <td>-0.038367</td>\n",
       "      <td>0.972222</td>\n",
       "      <td>11</td>\n",
       "    </tr>\n",
       "    <tr>\n",
       "      <th>4</th>\n",
       "      <td>0.328537</td>\n",
       "      <td>-0.000816</td>\n",
       "      <td>0.972222</td>\n",
       "      <td>5</td>\n",
       "    </tr>\n",
       "  </tbody>\n",
       "</table>\n",
       "</div>"
      ],
      "text/plain": [
       "   StockCode  Quantity   Country  YearMonth\n",
       "0   0.429813 -0.031586  0.972222          5\n",
       "1   0.352973 -0.021362  0.972222          5\n",
       "2   0.591366 -0.028183  0.972222         11\n",
       "3   0.574260 -0.038367  0.972222         11\n",
       "4   0.328537 -0.000816  0.972222          5"
      ]
     },
     "execution_count": 48,
     "metadata": {},
     "output_type": "execute_result"
    }
   ],
   "source": [
    "X.head()"
   ]
  },
  {
   "cell_type": "code",
   "execution_count": 49,
   "metadata": {},
   "outputs": [
    {
     "data": {
      "text/html": [
       "<div>\n",
       "<style scoped>\n",
       "    .dataframe tbody tr th:only-of-type {\n",
       "        vertical-align: middle;\n",
       "    }\n",
       "\n",
       "    .dataframe tbody tr th {\n",
       "        vertical-align: top;\n",
       "    }\n",
       "\n",
       "    .dataframe thead th {\n",
       "        text-align: right;\n",
       "    }\n",
       "</style>\n",
       "<table border=\"1\" class=\"dataframe\">\n",
       "  <thead>\n",
       "    <tr style=\"text-align: right;\">\n",
       "      <th></th>\n",
       "      <th>StockCode</th>\n",
       "      <th>Quantity</th>\n",
       "      <th>Country</th>\n",
       "      <th>YearMonth</th>\n",
       "    </tr>\n",
       "  </thead>\n",
       "  <tbody>\n",
       "    <tr>\n",
       "      <th>0</th>\n",
       "      <td>0.464024</td>\n",
       "      <td>-0.031586</td>\n",
       "      <td>0.972222</td>\n",
       "      <td>2</td>\n",
       "    </tr>\n",
       "    <tr>\n",
       "      <th>1</th>\n",
       "      <td>0.138474</td>\n",
       "      <td>-0.038367</td>\n",
       "      <td>0.972222</td>\n",
       "      <td>0</td>\n",
       "    </tr>\n",
       "    <tr>\n",
       "      <th>2</th>\n",
       "      <td>0.163997</td>\n",
       "      <td>0.081974</td>\n",
       "      <td>0.972222</td>\n",
       "      <td>10</td>\n",
       "    </tr>\n",
       "    <tr>\n",
       "      <th>3</th>\n",
       "      <td>0.401303</td>\n",
       "      <td>-0.034981</td>\n",
       "      <td>0.972222</td>\n",
       "      <td>6</td>\n",
       "    </tr>\n",
       "    <tr>\n",
       "      <th>4</th>\n",
       "      <td>0.873201</td>\n",
       "      <td>-0.038367</td>\n",
       "      <td>0.972222</td>\n",
       "      <td>11</td>\n",
       "    </tr>\n",
       "  </tbody>\n",
       "</table>\n",
       "</div>"
      ],
      "text/plain": [
       "   StockCode  Quantity   Country  YearMonth\n",
       "0   0.464024 -0.031586  0.972222          2\n",
       "1   0.138474 -0.038367  0.972222          0\n",
       "2   0.163997  0.081974  0.972222         10\n",
       "3   0.401303 -0.034981  0.972222          6\n",
       "4   0.873201 -0.038367  0.972222         11"
      ]
     },
     "execution_count": 49,
     "metadata": {},
     "output_type": "execute_result"
    }
   ],
   "source": [
    "test_df.head()"
   ]
  },
  {
   "cell_type": "code",
   "execution_count": 50,
   "metadata": {},
   "outputs": [
    {
     "data": {
      "text/plain": [
       "array([[ 0.78796353],\n",
       "       [ 0.01350189],\n",
       "       [ 1.28355766],\n",
       "       ...,\n",
       "       [ 1.62371496],\n",
       "       [ 0.69280208],\n",
       "       [-1.08556991]])"
      ]
     },
     "execution_count": 50,
     "metadata": {},
     "output_type": "execute_result"
    }
   ],
   "source": [
    "y"
   ]
  },
  {
   "cell_type": "code",
   "execution_count": 51,
   "metadata": {},
   "outputs": [],
   "source": [
    "X_train, X_test, y_train, y_test = train_test_split(X,y, test_size = 0.25, random_state = 1)"
   ]
  },
  {
   "cell_type": "markdown",
   "metadata": {},
   "source": [
    "#### Use pipeline to evaluate different algorithms. Here we are evaluating LinearRegression, Lasso, Ridge, KNeighboursRegressor and RandomForestRegressor"
   ]
  },
  {
   "cell_type": "code",
   "execution_count": 52,
   "metadata": {},
   "outputs": [
    {
     "name": "stdout",
     "output_type": "stream",
     "text": [
      "model_linReg: -0.984660 (0.007093)\n"
     ]
    }
   ],
   "source": [
    "\n",
    "from sklearn.pipeline import Pipeline\n",
    "pipelines = []\n",
    "pipelines.append(('model_linReg', Pipeline([('LR',LinearRegression())])))\n",
    "#pipelines.append(('model_Lasso', Pipeline([('LASSO', Lasso())])))\n",
    "#pipelines.append(('model_Ridge', Pipeline([('RIDGE', Ridge())])))\n",
    "#pipelines.append(('model_KNRegressor', Pipeline([('KNN', KNeighborsRegressor())])))\n",
    "#pipelines.append(('model_RFRegressor', Pipeline([('RF', RandomForestRegressor())])))\n",
    "#pipelines.append(('model_GrdBoostReg', Pipeline([('GradBoostReg', GradientBoostingRegressor())])))\n",
    "\n",
    "results = []\n",
    "names = []\n",
    "for name, model in pipelines:\n",
    "    kfold = KFold(n_splits=10, random_state=21)\n",
    "    cv_results = cross_val_score(model, X_train, y_train, cv=kfold, scoring='neg_mean_squared_error')\n",
    "    results.append(cv_results)\n",
    "    names.append(name)\n",
    "    msg = \"%s: %f (%f)\" % (name, cv_results.mean(), cv_results.std())\n",
    "    print(msg)"
   ]
  },
  {
   "cell_type": "markdown",
   "metadata": {},
   "source": [
    "#### Using GradientBoostingRegr"
   ]
  },
  {
   "cell_type": "code",
   "execution_count": 53,
   "metadata": {},
   "outputs": [
    {
     "name": "stdout",
     "output_type": "stream",
     "text": [
      "train: 0.5662622251214716\n",
      "test: 0.5697452247866389\n"
     ]
    }
   ],
   "source": [
    "gboostreg = GradientBoostingRegressor()\n",
    "gboostreg.fit(X_train, y_train)\n",
    "y_pred_train = gboostreg.predict(X_train)\n",
    "results = mean_squared_error(y_train, y_pred_train)\n",
    "print('train:', results)\n",
    "\n",
    "y_pred = gboostreg.predict(X_test)\n",
    "results = mean_squared_error(y_test, y_pred)\n",
    "print('test:', results)"
   ]
  },
  {
   "cell_type": "code",
   "execution_count": 54,
   "metadata": {},
   "outputs": [
    {
     "data": {
      "text/html": [
       "<div>\n",
       "<style scoped>\n",
       "    .dataframe tbody tr th:only-of-type {\n",
       "        vertical-align: middle;\n",
       "    }\n",
       "\n",
       "    .dataframe tbody tr th {\n",
       "        vertical-align: top;\n",
       "    }\n",
       "\n",
       "    .dataframe thead th {\n",
       "        text-align: right;\n",
       "    }\n",
       "</style>\n",
       "<table border=\"1\" class=\"dataframe\">\n",
       "  <thead>\n",
       "    <tr style=\"text-align: right;\">\n",
       "      <th></th>\n",
       "      <th>UnitPrice</th>\n",
       "    </tr>\n",
       "  </thead>\n",
       "  <tbody>\n",
       "    <tr>\n",
       "      <th>0</th>\n",
       "      <td>2.67</td>\n",
       "    </tr>\n",
       "    <tr>\n",
       "      <th>1</th>\n",
       "      <td>2.75</td>\n",
       "    </tr>\n",
       "    <tr>\n",
       "      <th>2</th>\n",
       "      <td>1.06</td>\n",
       "    </tr>\n",
       "    <tr>\n",
       "      <th>3</th>\n",
       "      <td>3.13</td>\n",
       "    </tr>\n",
       "    <tr>\n",
       "      <th>4</th>\n",
       "      <td>2.56</td>\n",
       "    </tr>\n",
       "  </tbody>\n",
       "</table>\n",
       "</div>"
      ],
      "text/plain": [
       "   UnitPrice\n",
       "0       2.67\n",
       "1       2.75\n",
       "2       1.06\n",
       "3       3.13\n",
       "4       2.56"
      ]
     },
     "execution_count": 54,
     "metadata": {},
     "output_type": "execute_result"
    }
   ],
   "source": [
    "finalPrediction = gboostreg.predict(test_df)\n",
    "\n",
    "finalPrediction = output_power_trans.inverse_transform(finalPrediction.reshape(-1,1))\n",
    "test_unitPrice = pd.DataFrame(data=finalPrediction,columns=[\"UnitPrice\"])\n",
    "test_unitPrice['UnitPrice'] = test_unitPrice['UnitPrice'].apply(lambda x: round(x,2))\n",
    "test_unitPrice.head()"
   ]
  },
  {
   "cell_type": "code",
   "execution_count": 55,
   "metadata": {},
   "outputs": [],
   "source": [
    "test_unitPrice.to_csv(os.path.join(data_dir,'Final_submission_GradientBoostRegressor.csv' ), index=False)"
   ]
  },
  {
   "cell_type": "markdown",
   "metadata": {},
   "source": [
    "### Remodelling by removing Quantity. Quantity Seems more to the Amount of Stocks purchased by the Customer"
   ]
  },
  {
   "cell_type": "code",
   "execution_count": 58,
   "metadata": {},
   "outputs": [
    {
     "name": "stdout",
     "output_type": "stream",
     "text": [
      "   StockCode  Quantity   Country  YearMonth\n",
      "0   0.429813 -0.031586  0.972222          5\n",
      "1   0.352973 -0.021362  0.972222          5\n",
      "2   0.591366 -0.028183  0.972222         11\n",
      "3   0.574260 -0.038367  0.972222         11\n",
      "4   0.328537 -0.000816  0.972222          5\n",
      "   StockCode  Quantity   Country  YearMonth\n",
      "0   0.464024 -0.031586  0.972222          2\n",
      "1   0.138474 -0.038367  0.972222          0\n",
      "2   0.163997  0.081974  0.972222         10\n",
      "3   0.401303 -0.034981  0.972222          6\n",
      "4   0.873201 -0.038367  0.972222         11\n"
     ]
    }
   ],
   "source": [
    "print(X.head())\n",
    "print(test_df.head())"
   ]
  },
  {
   "cell_type": "code",
   "execution_count": 59,
   "metadata": {},
   "outputs": [],
   "source": [
    "X = X.drop(columns=['Quantity'], axis = 1)\n",
    "test_df1 = test_df.copy()\n",
    "test_df1 = test_df1.drop(columns=['Quantity'], axis = 1)"
   ]
  },
  {
   "cell_type": "code",
   "execution_count": 60,
   "metadata": {},
   "outputs": [],
   "source": [
    "X_train, X_test, y_train, y_test = train_test_split(X,y, test_size = 0.25, random_state = 1)"
   ]
  },
  {
   "cell_type": "code",
   "execution_count": 61,
   "metadata": {},
   "outputs": [
    {
     "name": "stdout",
     "output_type": "stream",
     "text": [
      "train: 0.6408445499560899\n",
      "test: 0.6419224135129316\n"
     ]
    }
   ],
   "source": [
    "gboostreg = GradientBoostingRegressor()\n",
    "gboostreg.fit(X_train, y_train)\n",
    "y_pred_train = gboostreg.predict(X_train)\n",
    "results = mean_squared_error(y_train, y_pred_train)\n",
    "print('train:', results)\n",
    "\n",
    "y_pred = gboostreg.predict(X_test)\n",
    "results = mean_squared_error(y_test, y_pred)\n",
    "print('test:', results)"
   ]
  },
  {
   "cell_type": "code",
   "execution_count": 63,
   "metadata": {},
   "outputs": [
    {
     "data": {
      "text/html": [
       "<div>\n",
       "<style scoped>\n",
       "    .dataframe tbody tr th:only-of-type {\n",
       "        vertical-align: middle;\n",
       "    }\n",
       "\n",
       "    .dataframe tbody tr th {\n",
       "        vertical-align: top;\n",
       "    }\n",
       "\n",
       "    .dataframe thead th {\n",
       "        text-align: right;\n",
       "    }\n",
       "</style>\n",
       "<table border=\"1\" class=\"dataframe\">\n",
       "  <thead>\n",
       "    <tr style=\"text-align: right;\">\n",
       "      <th></th>\n",
       "      <th>UnitPrice</th>\n",
       "    </tr>\n",
       "  </thead>\n",
       "  <tbody>\n",
       "    <tr>\n",
       "      <th>0</th>\n",
       "      <td>2.18</td>\n",
       "    </tr>\n",
       "    <tr>\n",
       "      <th>1</th>\n",
       "      <td>2.01</td>\n",
       "    </tr>\n",
       "    <tr>\n",
       "      <th>2</th>\n",
       "      <td>2.02</td>\n",
       "    </tr>\n",
       "    <tr>\n",
       "      <th>3</th>\n",
       "      <td>2.44</td>\n",
       "    </tr>\n",
       "    <tr>\n",
       "      <th>4</th>\n",
       "      <td>1.84</td>\n",
       "    </tr>\n",
       "  </tbody>\n",
       "</table>\n",
       "</div>"
      ],
      "text/plain": [
       "   UnitPrice\n",
       "0       2.18\n",
       "1       2.01\n",
       "2       2.02\n",
       "3       2.44\n",
       "4       1.84"
      ]
     },
     "execution_count": 63,
     "metadata": {},
     "output_type": "execute_result"
    }
   ],
   "source": [
    "finalPrediction = gboostreg.predict(test_df1)\n",
    "\n",
    "finalPrediction = output_power_trans.inverse_transform(finalPrediction.reshape(-1,1))\n",
    "test_unitPrice = pd.DataFrame(data=finalPrediction,columns=[\"UnitPrice\"])\n",
    "test_unitPrice['UnitPrice'] = test_unitPrice['UnitPrice'].apply(lambda x: round(x,2))\n",
    "test_unitPrice.head()"
   ]
  },
  {
   "cell_type": "code",
   "execution_count": 64,
   "metadata": {},
   "outputs": [],
   "source": [
    "test_unitPrice.to_csv(os.path.join(data_dir,'Final_submission_GradientBoostRegressor_without_Quantity.csv' ), index=False)"
   ]
  },
  {
   "cell_type": "code",
   "execution_count": null,
   "metadata": {},
   "outputs": [],
   "source": []
  }
 ],
 "metadata": {
  "kernelspec": {
   "display_name": "Python 3",
   "language": "python",
   "name": "python3"
  },
  "language_info": {
   "codemirror_mode": {
    "name": "ipython",
    "version": 3
   },
   "file_extension": ".py",
   "mimetype": "text/x-python",
   "name": "python",
   "nbconvert_exporter": "python",
   "pygments_lexer": "ipython3",
   "version": "3.7.9"
  }
 },
 "nbformat": 4,
 "nbformat_minor": 4
}
