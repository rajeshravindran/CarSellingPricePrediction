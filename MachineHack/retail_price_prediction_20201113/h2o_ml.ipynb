{
 "cells": [
  {
   "cell_type": "code",
   "execution_count": 2,
   "metadata": {},
   "outputs": [],
   "source": [
    "import pandas as pd\n",
    "import numpy as np \n",
    "import os "
   ]
  },
  {
   "cell_type": "code",
   "execution_count": 3,
   "metadata": {},
   "outputs": [],
   "source": [
    "root_dir  = os.path.abspath('.')\n",
    "data_dir  = os.path.join(root_dir, 'data')\n",
    "train     = os.path.join(data_dir,'Train.csv')\n",
    "test      = os.path.join(data_dir,'Test.csv' )"
   ]
  },
  {
   "cell_type": "code",
   "execution_count": 4,
   "metadata": {},
   "outputs": [
    {
     "data": {
      "text/html": [
       "<div>\n",
       "<style scoped>\n",
       "    .dataframe tbody tr th:only-of-type {\n",
       "        vertical-align: middle;\n",
       "    }\n",
       "\n",
       "    .dataframe tbody tr th {\n",
       "        vertical-align: top;\n",
       "    }\n",
       "\n",
       "    .dataframe thead th {\n",
       "        text-align: right;\n",
       "    }\n",
       "</style>\n",
       "<table border=\"1\" class=\"dataframe\">\n",
       "  <thead>\n",
       "    <tr style=\"text-align: right;\">\n",
       "      <th></th>\n",
       "      <th>InvoiceNo</th>\n",
       "      <th>StockCode</th>\n",
       "      <th>Description</th>\n",
       "      <th>Quantity</th>\n",
       "      <th>InvoiceDate</th>\n",
       "      <th>UnitPrice</th>\n",
       "      <th>CustomerID</th>\n",
       "      <th>Country</th>\n",
       "    </tr>\n",
       "  </thead>\n",
       "  <tbody>\n",
       "    <tr>\n",
       "      <th>0</th>\n",
       "      <td>6141</td>\n",
       "      <td>1583</td>\n",
       "      <td>144</td>\n",
       "      <td>3</td>\n",
       "      <td>2011-05-06 16:54:00</td>\n",
       "      <td>3.75</td>\n",
       "      <td>14056.0</td>\n",
       "      <td>35</td>\n",
       "    </tr>\n",
       "    <tr>\n",
       "      <th>1</th>\n",
       "      <td>6349</td>\n",
       "      <td>1300</td>\n",
       "      <td>3682</td>\n",
       "      <td>6</td>\n",
       "      <td>2011-05-11 07:35:00</td>\n",
       "      <td>1.95</td>\n",
       "      <td>13098.0</td>\n",
       "      <td>35</td>\n",
       "    </tr>\n",
       "    <tr>\n",
       "      <th>2</th>\n",
       "      <td>16783</td>\n",
       "      <td>2178</td>\n",
       "      <td>1939</td>\n",
       "      <td>4</td>\n",
       "      <td>2011-11-20 13:20:00</td>\n",
       "      <td>5.95</td>\n",
       "      <td>15044.0</td>\n",
       "      <td>35</td>\n",
       "    </tr>\n",
       "    <tr>\n",
       "      <th>3</th>\n",
       "      <td>16971</td>\n",
       "      <td>2115</td>\n",
       "      <td>2983</td>\n",
       "      <td>1</td>\n",
       "      <td>2011-11-22 12:07:00</td>\n",
       "      <td>0.83</td>\n",
       "      <td>15525.0</td>\n",
       "      <td>35</td>\n",
       "    </tr>\n",
       "    <tr>\n",
       "      <th>4</th>\n",
       "      <td>6080</td>\n",
       "      <td>1210</td>\n",
       "      <td>2886</td>\n",
       "      <td>12</td>\n",
       "      <td>2011-05-06 09:00:00</td>\n",
       "      <td>1.65</td>\n",
       "      <td>13952.0</td>\n",
       "      <td>35</td>\n",
       "    </tr>\n",
       "  </tbody>\n",
       "</table>\n",
       "</div>"
      ],
      "text/plain": [
       "   InvoiceNo  StockCode  Description  Quantity          InvoiceDate  \\\n",
       "0       6141       1583          144         3  2011-05-06 16:54:00   \n",
       "1       6349       1300         3682         6  2011-05-11 07:35:00   \n",
       "2      16783       2178         1939         4  2011-11-20 13:20:00   \n",
       "3      16971       2115         2983         1  2011-11-22 12:07:00   \n",
       "4       6080       1210         2886        12  2011-05-06 09:00:00   \n",
       "\n",
       "   UnitPrice  CustomerID  Country  \n",
       "0       3.75     14056.0       35  \n",
       "1       1.95     13098.0       35  \n",
       "2       5.95     15044.0       35  \n",
       "3       0.83     15525.0       35  \n",
       "4       1.65     13952.0       35  "
      ]
     },
     "execution_count": 4,
     "metadata": {},
     "output_type": "execute_result"
    }
   ],
   "source": [
    "train_df = pd.read_csv(train)\n",
    "train_df.head()"
   ]
  },
  {
   "cell_type": "code",
   "execution_count": 5,
   "metadata": {},
   "outputs": [
    {
     "name": "stdout",
     "output_type": "stream",
     "text": [
      "Checking whether there is an H2O instance running at http://localhost:54321 ..... not found.\n",
      "Attempting to start a local H2O server...\n",
      "  Java Version: openjdk version \"11.0.9.1\" 2020-11-04; OpenJDK Runtime Environment (build 11.0.9.1+1-Ubuntu-0ubuntu1.20.04); OpenJDK 64-Bit Server VM (build 11.0.9.1+1-Ubuntu-0ubuntu1.20.04, mixed mode, sharing)\n",
      "  Starting server from /home/mia/pyenv/lib/python3.7/site-packages/h2o/backend/bin/h2o.jar\n",
      "  Ice root: /tmp/tmp_b9zpwze\n",
      "  JVM stdout: /tmp/tmp_b9zpwze/h2o_mia_started_from_python.out\n",
      "  JVM stderr: /tmp/tmp_b9zpwze/h2o_mia_started_from_python.err\n",
      "  Server is running at http://127.0.0.1:54321\n",
      "Connecting to H2O server at http://127.0.0.1:54321 ... successful.\n"
     ]
    },
    {
     "data": {
      "text/html": [
       "<div style=\"overflow:auto\"><table style=\"width:50%\"><tr><td>H2O_cluster_uptime:</td>\n",
       "<td>17 secs</td></tr>\n",
       "<tr><td>H2O_cluster_timezone:</td>\n",
       "<td>Asia/Kolkata</td></tr>\n",
       "<tr><td>H2O_data_parsing_timezone:</td>\n",
       "<td>UTC</td></tr>\n",
       "<tr><td>H2O_cluster_version:</td>\n",
       "<td>3.30.1.3</td></tr>\n",
       "<tr><td>H2O_cluster_version_age:</td>\n",
       "<td>1 month and 21 days </td></tr>\n",
       "<tr><td>H2O_cluster_name:</td>\n",
       "<td>H2O_from_python_mia_w854da</td></tr>\n",
       "<tr><td>H2O_cluster_total_nodes:</td>\n",
       "<td>1</td></tr>\n",
       "<tr><td>H2O_cluster_free_memory:</td>\n",
       "<td>952 Mb</td></tr>\n",
       "<tr><td>H2O_cluster_total_cores:</td>\n",
       "<td>2</td></tr>\n",
       "<tr><td>H2O_cluster_allowed_cores:</td>\n",
       "<td>2</td></tr>\n",
       "<tr><td>H2O_cluster_status:</td>\n",
       "<td>locked, healthy</td></tr>\n",
       "<tr><td>H2O_connection_url:</td>\n",
       "<td>http://127.0.0.1:54321</td></tr>\n",
       "<tr><td>H2O_connection_proxy:</td>\n",
       "<td>{\"http\": null, \"https\": null}</td></tr>\n",
       "<tr><td>H2O_internal_security:</td>\n",
       "<td>False</td></tr>\n",
       "<tr><td>H2O_API_Extensions:</td>\n",
       "<td>Amazon S3, XGBoost, Algos, AutoML, Core V3, TargetEncoder, Core V4</td></tr>\n",
       "<tr><td>Python_version:</td>\n",
       "<td>3.7.9 final</td></tr></table></div>"
      ],
      "text/plain": [
       "--------------------------  ------------------------------------------------------------------\n",
       "H2O_cluster_uptime:         17 secs\n",
       "H2O_cluster_timezone:       Asia/Kolkata\n",
       "H2O_data_parsing_timezone:  UTC\n",
       "H2O_cluster_version:        3.30.1.3\n",
       "H2O_cluster_version_age:    1 month and 21 days\n",
       "H2O_cluster_name:           H2O_from_python_mia_w854da\n",
       "H2O_cluster_total_nodes:    1\n",
       "H2O_cluster_free_memory:    952 Mb\n",
       "H2O_cluster_total_cores:    2\n",
       "H2O_cluster_allowed_cores:  2\n",
       "H2O_cluster_status:         locked, healthy\n",
       "H2O_connection_url:         http://127.0.0.1:54321\n",
       "H2O_connection_proxy:       {\"http\": null, \"https\": null}\n",
       "H2O_internal_security:      False\n",
       "H2O_API_Extensions:         Amazon S3, XGBoost, Algos, AutoML, Core V3, TargetEncoder, Core V4\n",
       "Python_version:             3.7.9 final\n",
       "--------------------------  ------------------------------------------------------------------"
      ]
     },
     "metadata": {},
     "output_type": "display_data"
    }
   ],
   "source": [
    "import h2o\n",
    "from h2o.automl import H2OAutoML\n",
    "h2o.init()"
   ]
  },
  {
   "cell_type": "code",
   "execution_count": 6,
   "metadata": {},
   "outputs": [
    {
     "name": "stdout",
     "output_type": "stream",
     "text": [
      "Parse progress: |█████████████████████████████████████████████████████████| 100%\n"
     ]
    }
   ],
   "source": [
    "data = h2o.import_file(train)"
   ]
  },
  {
   "cell_type": "code",
   "execution_count": 7,
   "metadata": {},
   "outputs": [
    {
     "name": "stdout",
     "output_type": "stream",
     "text": [
      "AutoML progress: |████████████████████████████████████████████████████████| 100%\n"
     ]
    }
   ],
   "source": [
    "features=data.columns\n",
    "features.remove('UnitPrice')\n",
    "features.remove('CustomerID')\n",
    "features.remove('InvoiceDate')\n",
    "y='UnitPrice'\n",
    "aml = H2OAutoML(max_models=10,seed=1,nfolds=5,verbosity='warn')\n",
    "aml.train(x=features,y='UnitPrice',training_frame = data)"
   ]
  },
  {
   "cell_type": "code",
   "execution_count": 8,
   "metadata": {},
   "outputs": [
    {
     "data": {
      "text/html": [
       "<table>\n",
       "<thead>\n",
       "<tr><th>model_id                                           </th><th style=\"text-align: right;\">  mean_residual_deviance</th><th style=\"text-align: right;\">   rmse</th><th style=\"text-align: right;\">    mse</th><th style=\"text-align: right;\">    mae</th><th style=\"text-align: right;\">     rmsle</th></tr>\n",
       "</thead>\n",
       "<tbody>\n",
       "<tr><td>GBM_5_AutoML_20201118_235319                       </td><td style=\"text-align: right;\">                 5976.27</td><td style=\"text-align: right;\">77.3064</td><td style=\"text-align: right;\">5976.27</td><td style=\"text-align: right;\">1.59343</td><td style=\"text-align: right;\">nan       </td></tr>\n",
       "<tr><td>StackedEnsemble_BestOfFamily_AutoML_20201118_235319</td><td style=\"text-align: right;\">                 6034.05</td><td style=\"text-align: right;\">77.6792</td><td style=\"text-align: right;\">6034.05</td><td style=\"text-align: right;\">1.57832</td><td style=\"text-align: right;\">nan       </td></tr>\n",
       "<tr><td>StackedEnsemble_AllModels_AutoML_20201118_235319   </td><td style=\"text-align: right;\">                 6049.98</td><td style=\"text-align: right;\">77.7816</td><td style=\"text-align: right;\">6049.98</td><td style=\"text-align: right;\">1.5843 </td><td style=\"text-align: right;\">nan       </td></tr>\n",
       "<tr><td>GLM_1_AutoML_20201118_235319                       </td><td style=\"text-align: right;\">                 6146.37</td><td style=\"text-align: right;\">78.3988</td><td style=\"text-align: right;\">6146.37</td><td style=\"text-align: right;\">2.84731</td><td style=\"text-align: right;\">  0.693768</td></tr>\n",
       "<tr><td>GBM_3_AutoML_20201118_235319                       </td><td style=\"text-align: right;\">                 6183.67</td><td style=\"text-align: right;\">78.6363</td><td style=\"text-align: right;\">6183.67</td><td style=\"text-align: right;\">2.21015</td><td style=\"text-align: right;\">nan       </td></tr>\n",
       "<tr><td>DRF_1_AutoML_20201118_235319                       </td><td style=\"text-align: right;\">                 6214.17</td><td style=\"text-align: right;\">78.83  </td><td style=\"text-align: right;\">6214.17</td><td style=\"text-align: right;\">2.30767</td><td style=\"text-align: right;\">  0.522553</td></tr>\n",
       "<tr><td>GBM_2_AutoML_20201118_235319                       </td><td style=\"text-align: right;\">                 6222.07</td><td style=\"text-align: right;\">78.8801</td><td style=\"text-align: right;\">6222.07</td><td style=\"text-align: right;\">2.27024</td><td style=\"text-align: right;\">nan       </td></tr>\n",
       "<tr><td>XGBoost_2_AutoML_20201118_235319                   </td><td style=\"text-align: right;\">                 6244.49</td><td style=\"text-align: right;\">79.0221</td><td style=\"text-align: right;\">6244.49</td><td style=\"text-align: right;\">1.53764</td><td style=\"text-align: right;\">nan       </td></tr>\n",
       "<tr><td>GBM_4_AutoML_20201118_235319                       </td><td style=\"text-align: right;\">                 6247.7 </td><td style=\"text-align: right;\">79.0424</td><td style=\"text-align: right;\">6247.7 </td><td style=\"text-align: right;\">1.93111</td><td style=\"text-align: right;\">nan       </td></tr>\n",
       "<tr><td>XGBoost_1_AutoML_20201118_235319                   </td><td style=\"text-align: right;\">                 6818.87</td><td style=\"text-align: right;\">82.5764</td><td style=\"text-align: right;\">6818.87</td><td style=\"text-align: right;\">2.11614</td><td style=\"text-align: right;\">nan       </td></tr>\n",
       "</tbody>\n",
       "</table>"
      ]
     },
     "metadata": {},
     "output_type": "display_data"
    },
    {
     "data": {
      "text/plain": []
     },
     "execution_count": 8,
     "metadata": {},
     "output_type": "execute_result"
    }
   ],
   "source": [
    "aml.leaderboard"
   ]
  },
  {
   "cell_type": "code",
   "execution_count": 9,
   "metadata": {},
   "outputs": [
    {
     "name": "stdout",
     "output_type": "stream",
     "text": [
      "Parse progress: |█████████████████████████████████████████████████████████| 100%\n"
     ]
    }
   ],
   "source": [
    "from sklearn.metrics import mean_squared_error\n",
    "test = h2o.import_file(test)"
   ]
  },
  {
   "cell_type": "code",
   "execution_count": 11,
   "metadata": {},
   "outputs": [
    {
     "name": "stdout",
     "output_type": "stream",
     "text": [
      "gbm prediction progress: |████████████████████████████████████████████████| 100%\n"
     ]
    }
   ],
   "source": [
    "predictions = aml.predict(test)"
   ]
  },
  {
   "cell_type": "code",
   "execution_count": 12,
   "metadata": {},
   "outputs": [
    {
     "data": {
      "text/html": [
       "<div>\n",
       "<style scoped>\n",
       "    .dataframe tbody tr th:only-of-type {\n",
       "        vertical-align: middle;\n",
       "    }\n",
       "\n",
       "    .dataframe tbody tr th {\n",
       "        vertical-align: top;\n",
       "    }\n",
       "\n",
       "    .dataframe thead th {\n",
       "        text-align: right;\n",
       "    }\n",
       "</style>\n",
       "<table border=\"1\" class=\"dataframe\">\n",
       "  <thead>\n",
       "    <tr style=\"text-align: right;\">\n",
       "      <th></th>\n",
       "      <th>UnitPrice</th>\n",
       "    </tr>\n",
       "  </thead>\n",
       "  <tbody>\n",
       "    <tr>\n",
       "      <th>0</th>\n",
       "      <td>1.852142</td>\n",
       "    </tr>\n",
       "    <tr>\n",
       "      <th>1</th>\n",
       "      <td>1.575618</td>\n",
       "    </tr>\n",
       "    <tr>\n",
       "      <th>2</th>\n",
       "      <td>2.933390</td>\n",
       "    </tr>\n",
       "    <tr>\n",
       "      <th>3</th>\n",
       "      <td>1.306669</td>\n",
       "    </tr>\n",
       "    <tr>\n",
       "      <th>4</th>\n",
       "      <td>11.193170</td>\n",
       "    </tr>\n",
       "    <tr>\n",
       "      <th>...</th>\n",
       "      <td>...</td>\n",
       "    </tr>\n",
       "    <tr>\n",
       "      <th>122044</th>\n",
       "      <td>0.762008</td>\n",
       "    </tr>\n",
       "    <tr>\n",
       "      <th>122045</th>\n",
       "      <td>1.592646</td>\n",
       "    </tr>\n",
       "    <tr>\n",
       "      <th>122046</th>\n",
       "      <td>1.210586</td>\n",
       "    </tr>\n",
       "    <tr>\n",
       "      <th>122047</th>\n",
       "      <td>5.221494</td>\n",
       "    </tr>\n",
       "    <tr>\n",
       "      <th>122048</th>\n",
       "      <td>3.825857</td>\n",
       "    </tr>\n",
       "  </tbody>\n",
       "</table>\n",
       "<p>122049 rows × 1 columns</p>\n",
       "</div>"
      ],
      "text/plain": [
       "        UnitPrice\n",
       "0        1.852142\n",
       "1        1.575618\n",
       "2        2.933390\n",
       "3        1.306669\n",
       "4       11.193170\n",
       "...           ...\n",
       "122044   0.762008\n",
       "122045   1.592646\n",
       "122046   1.210586\n",
       "122047   5.221494\n",
       "122048   3.825857\n",
       "\n",
       "[122049 rows x 1 columns]"
      ]
     },
     "execution_count": 12,
     "metadata": {},
     "output_type": "execute_result"
    }
   ],
   "source": [
    "submit = pd.DataFrame(predictions.as_data_frame(use_pandas=True)['predict'].tolist())\n",
    "submit.columns=['UnitPrice']\n",
    "submit"
   ]
  },
  {
   "cell_type": "code",
   "execution_count": 13,
   "metadata": {},
   "outputs": [],
   "source": [
    "submit.to_csv(os.path.join(data_dir,'Final_Submission_h2o.csv' ), index=False)"
   ]
  },
  {
   "cell_type": "code",
   "execution_count": null,
   "metadata": {},
   "outputs": [],
   "source": []
  }
 ],
 "metadata": {
  "kernelspec": {
   "display_name": "Python 3",
   "language": "python",
   "name": "python3"
  },
  "language_info": {
   "codemirror_mode": {
    "name": "ipython",
    "version": 3
   },
   "file_extension": ".py",
   "mimetype": "text/x-python",
   "name": "python",
   "nbconvert_exporter": "python",
   "pygments_lexer": "ipython3",
   "version": "3.7.9"
  }
 },
 "nbformat": 4,
 "nbformat_minor": 4
}
